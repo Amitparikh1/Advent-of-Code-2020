{
  "nbformat": 4,
  "nbformat_minor": 0,
  "metadata": {
    "colab": {
      "name": "AdventOfCode-AmitParikh.ipynb",
      "provenance": [],
      "collapsed_sections": []
    },
    "kernelspec": {
      "name": "python3",
      "display_name": "Python 3"
    }
  },
  "cells": [
    {
      "cell_type": "markdown",
      "metadata": {
        "id": "H8TxwS5Z68i2"
      },
      "source": [
        "Day 1 "
      ]
    },
    {
      "cell_type": "code",
      "metadata": {
        "colab": {
          "base_uri": "https://localhost:8080/"
        },
        "id": "yuO6xqVs653T",
        "outputId": "5103178b-7cb9-44b3-c5fa-32dcd59e04c7"
      },
      "source": [
        "## Open input file\n",
        "input = open(\"InputDay1.txt\")\n",
        "data = [int(value) for value in input.read().splitlines()]\n",
        "\n",
        "## Function to Loop through numbers and look for numbers that add to 2020 \n",
        "def findNum(data):\n",
        "  for x in data:\n",
        "    for y in data:\n",
        "      for z in data: \n",
        "        if (x + y + z == 2020):\n",
        "          return (x*y*z)\n",
        "\n",
        "## Call function \n",
        "print(findNum(data))\n",
        "## Close file \n",
        "input.close()"
      ],
      "execution_count": null,
      "outputs": [
        {
          "output_type": "stream",
          "text": [
            "218767230\n"
          ],
          "name": "stdout"
        }
      ]
    },
    {
      "cell_type": "markdown",
      "metadata": {
        "id": "vHce07Bo_a6h"
      },
      "source": [
        "Day 2"
      ]
    },
    {
      "cell_type": "code",
      "metadata": {
        "colab": {
          "base_uri": "https://localhost:8080/"
        },
        "id": "a5ADzLig_c9o",
        "outputId": "67390a60-f37a-4556-a4e6-ff260a0571d3"
      },
      "source": [
        "### PART 1 ###\n",
        "## Open input file\n",
        "input = open(\"InputDay2.txt\")\n",
        "data = [value for value in input.read().splitlines()]\n",
        "valid = 0 \n",
        "for line in data:\n",
        "  splitDash = line.split(\"-\")\n",
        "  min = int(splitDash[0])\n",
        "  splitWhite = splitDash[1].split(\" \")\n",
        "  max = int(splitWhite[0])\n",
        "  char = splitWhite[1][0]\n",
        "  string = splitWhite[2]\n",
        "  count = string.count(char)\n",
        "  if (count>=min and count<=max):\n",
        "    valid += 1\n",
        "\n",
        "print(valid)"
      ],
      "execution_count": null,
      "outputs": [
        {
          "output_type": "stream",
          "text": [
            "378\n"
          ],
          "name": "stdout"
        }
      ]
    },
    {
      "cell_type": "code",
      "metadata": {
        "colab": {
          "base_uri": "https://localhost:8080/"
        },
        "id": "PmFnsWFUCrPb",
        "outputId": "342520d0-ec5b-4833-8c7d-00eb07d46c01"
      },
      "source": [
        "### PART 2 ###\n",
        "## Open input file\n",
        "input = open(\"InputDay2.txt\")\n",
        "data = [value for value in input.read().splitlines()]\n",
        "valid = 0 \n",
        "for line in data:\n",
        "  splitDash = line.split(\"-\")\n",
        "  firstIndex = int(splitDash[0])\n",
        "  splitWhite = splitDash[1].split(\" \")\n",
        "  secondIndex = int(splitWhite[0])\n",
        "  char = splitWhite[1][0]\n",
        "  string = splitWhite[2]\n",
        "  if ((string[firstIndex-1]==char or string[secondIndex-1]==char) and not (string[firstIndex-1]==char and string[secondIndex-1]==char)):\n",
        "    valid +=1\n",
        "\n",
        "print(valid)"
      ],
      "execution_count": null,
      "outputs": [
        {
          "output_type": "stream",
          "text": [
            "280\n"
          ],
          "name": "stdout"
        }
      ]
    },
    {
      "cell_type": "markdown",
      "metadata": {
        "id": "biucw6-NCV3w"
      },
      "source": [
        "Day 3"
      ]
    },
    {
      "cell_type": "code",
      "metadata": {
        "colab": {
          "base_uri": "https://localhost:8080/"
        },
        "id": "-Vu2V2UJCZsJ",
        "outputId": "887fb735-108a-4ac5-da5c-c4980445c5b0"
      },
      "source": [
        "### Part 1 ###\n",
        "## Open input file \n",
        "input = open(\"InputDay3.txt\")\n",
        "data = [value for value in input.read().splitlines()]\n",
        "# Count how many trees are encountered\n",
        "trees = 0\n",
        "index = 0\n",
        "notFirst = False \n",
        "for row in data:\n",
        "  if (index>=len(row)):\n",
        "    index = index % len(row)\n",
        "  if (row[index]==\"#\" and notFirst):\n",
        "    trees+=1\n",
        "  index +=3\n",
        "  if not notFirst:\n",
        "    notFirst = True\n",
        "\n",
        "print(trees)"
      ],
      "execution_count": null,
      "outputs": [
        {
          "output_type": "stream",
          "text": [
            "198\n"
          ],
          "name": "stdout"
        }
      ]
    },
    {
      "cell_type": "code",
      "metadata": {
        "colab": {
          "base_uri": "https://localhost:8080/"
        },
        "id": "xKatr5FZGYXd",
        "outputId": "bca73799-b10b-43be-fe89-3478c811792e"
      },
      "source": [
        "### Part 2 ###\n",
        "## Open input file \n",
        "input = open(\"InputDay3.txt\")\n",
        "data = [value for value in input.read().splitlines()]\n",
        "def findTrees(data,rightIncrementor,downIncrementor):\n",
        "  # Count how many trees are encountered\n",
        "  trees = 0\n",
        "  index = 0\n",
        "  notFirst = False\n",
        "  rowNum = 0\n",
        "  for row in data:\n",
        "    if (rowNum%downIncrementor==0):\n",
        "      if (index>=len(row)):\n",
        "        index = index % len(row)\n",
        "      if (row[index]==\"#\" and rowNum>0):\n",
        "        trees+=1\n",
        "      index +=rightIncrementor\n",
        "    rowNum += 1\n",
        "  return trees\n",
        "\n",
        "## Find trees for different slopes and multiply answers\n",
        "slopes = [[1,1],[3,1],[5,1],[7,1],[1,2]]\n",
        "multiple = 1\n",
        "for slope in slopes:\n",
        "  right = slope[0]\n",
        "  down = slope[1]\n",
        "  print(findTrees(data,right,down))\n",
        "  multiple = multiple * findTrees(data,right,down)\n",
        "\n",
        "print(multiple)"
      ],
      "execution_count": null,
      "outputs": [
        {
          "output_type": "stream",
          "text": [
            "84\n",
            "198\n",
            "72\n",
            "81\n",
            "53\n",
            "5140884672\n"
          ],
          "name": "stdout"
        }
      ]
    },
    {
      "cell_type": "markdown",
      "metadata": {
        "id": "cHlq6LKhac9C"
      },
      "source": [
        "Day 4"
      ]
    },
    {
      "cell_type": "code",
      "metadata": {
        "colab": {
          "base_uri": "https://localhost:8080/"
        },
        "id": "6j9aT6V8afUa",
        "outputId": "1ec7eb92-365e-4a10-e58c-aa987d3e5fab"
      },
      "source": [
        "### PART 1 ###\n",
        "input = open(\"InputDay4.txt\")\n",
        "data = [value for value in input.read().split(\"\\n\\n\")]\n",
        "\n",
        "## Var to count valid passports\n",
        "valid = 0\n",
        "## Array to store passports with valid fields for part 2 \n",
        "valid_fields = []\n",
        "for passport in data:\n",
        "  req_fields = [\"byr\",\"iyr\",\"eyr\",\"hgt\",\"hcl\",\"ecl\",\"pid\"]\n",
        "  has_fields = []\n",
        "  ## Check if passport has the 7 fields\n",
        "  for field in req_fields:\n",
        "    has_fields.append(field in passport)\n",
        "  \n",
        "  ## If has fields, increase valid count\n",
        "  if (False not in has_fields):\n",
        "    valid += 1\n",
        "    valid_fields.append(passport)\n",
        "print(valid)"
      ],
      "execution_count": null,
      "outputs": [
        {
          "output_type": "stream",
          "text": [
            "216\n"
          ],
          "name": "stdout"
        }
      ]
    },
    {
      "cell_type": "code",
      "metadata": {
        "colab": {
          "base_uri": "https://localhost:8080/"
        },
        "id": "-DNZCr-XgMr0",
        "outputId": "b8a9c372-8995-4e7a-cca9-e695a77f40c1"
      },
      "source": [
        "### PART 2 ### \n",
        "import re \n",
        "\n",
        "## Keep track of valid entries\n",
        "val = 0\n",
        "sol = []\n",
        "## valid_fields array gotten in part 1 \n",
        "for passport in valid_fields:\n",
        "  ## Check byr\n",
        "  byr_index = passport.find(\"byr\")\n",
        "  byr = int(passport[byr_index+4:byr_index+8])\n",
        "  \n",
        "  if (byr>=1920 and byr<=2002):\n",
        "    ## Check iyr\n",
        "    iyr_index = passport.find(\"iyr\")\n",
        "    iyr = int(passport[iyr_index+4:iyr_index+8])\n",
        "    \n",
        "    if (iyr>=2010 and iyr<=2020):\n",
        "      ## Check eyr\n",
        "      eyr_index = passport.find(\"eyr\")\n",
        "      eyr = int(passport[eyr_index+4:eyr_index+8])\n",
        "      \n",
        "      if (eyr>=2020 and eyr<=2030):\n",
        "        ## Check hgt\n",
        "        hgt_check = False \n",
        "        hgt_index = passport.find(\"hgt\")\n",
        "        hgt_string = passport[hgt_index+4:hgt_index+9].strip()\n",
        "        metric = hgt_string[len(hgt_string)-2:len(hgt_string)]\n",
        "        hgt = int(hgt_string[0:len(hgt_string)-2])\n",
        "        if (metric == \"cm\" and (hgt >=150 and hgt <=193)):\n",
        "            hgt_check = True\n",
        "        elif (metric == \"in\" and (hgt>=59 and hgt<=76)):\n",
        "            hgt_check = True\n",
        "        \n",
        "        if (hgt_check):\n",
        "          ## Check hcl\n",
        "          hcl_index = passport.find(\"hcl\")\n",
        "          hcl = passport[hcl_index+4:hcl_index+11]\n",
        "          match = bool(re.match(\"^#[0-9a-f][0-9a-f][0-9a-f][0-9a-f][0-9a-f][0-9a-f]\",hcl))\n",
        "          \n",
        "          if (match):\n",
        "            ##check ecl\n",
        "            ecl_index = passport.find(\"ecl\")\n",
        "            ecl = passport[ecl_index+4:ecl_index+7]\n",
        "            \n",
        "            if (ecl == \"amb\" or ecl ==\"blu\" or ecl == \"brn\" or ecl == \"gry\" or ecl == \"grn\" or ecl == \"hzl\" or ecl == \"oth\"):\n",
        "              ## check pid \n",
        "              pid_index = passport.find(\"pid\")\n",
        "              pid = passport[pid_index+4:pid_index+13]\n",
        "              \n",
        "              if (pid.isnumeric()):\n",
        "                 val+=1\n",
        "                 sol.append(passport)\n",
        "\n",
        "print(val)     "
      ],
      "execution_count": null,
      "outputs": [
        {
          "output_type": "stream",
          "text": [
            "150\n"
          ],
          "name": "stdout"
        }
      ]
    },
    {
      "cell_type": "markdown",
      "metadata": {
        "id": "_iwEL5OD1fTe"
      },
      "source": [
        "Day 5"
      ]
    },
    {
      "cell_type": "code",
      "metadata": {
        "colab": {
          "base_uri": "https://localhost:8080/"
        },
        "id": "8UYXHE_qaSq9",
        "outputId": "74ee65ac-6ee6-4fe9-d821-53da6e92f298"
      },
      "source": [
        "### PART 1 ###\n",
        "input = open(\"InputDay5.txt\")\n",
        "data = [value for value in input.read().splitlines()]\n",
        "\n",
        "highest = 0\n",
        "seatIDarr= [] ## For part 2 \n",
        "for seat in data:\n",
        "  rows = [0,127]\n",
        "  columns = [0,7]\n",
        "  for char in seat:\n",
        "    if char == \"F\":\n",
        "      rows = [int(rows[0]),int(rows[1]-(rows[1]-rows[0])/2)]\n",
        "    elif char == \"B\":\n",
        "      rows = [int(rows[0]+((rows[1]-rows[0])/2))+1,int(rows[1])]\n",
        "    elif char == \"L\":\n",
        "      columns = [int(columns[0]),int(columns[1]-(columns[1]-columns[0])/2)]\n",
        "    elif char == \"R\":\n",
        "      columns = [int(columns[0]+((columns[1]-columns[0])/2))+1,int(columns[1])]\n",
        "    \n",
        "  #seat = (rows[0],columns[0])\n",
        "  seatID = rows[0]*8 + columns[0]\n",
        "  seatIDarr.append(seatID)\n",
        "  if seatID > highest:\n",
        "    highest = seatID\n",
        "    \n",
        "print(highest)"
      ],
      "execution_count": null,
      "outputs": [
        {
          "output_type": "stream",
          "text": [
            "926\n"
          ],
          "name": "stdout"
        }
      ]
    },
    {
      "cell_type": "code",
      "metadata": {
        "colab": {
          "base_uri": "https://localhost:8080/"
        },
        "id": "eX3zAZneocOb",
        "outputId": "dca7abf8-6f22-4b6a-ebbd-1be2b1e719f0"
      },
      "source": [
        "### PART 2 ### \n",
        "## Using seatIDarr from part 1 \n",
        "seatIDarr.sort()\n",
        "\n",
        "notFound = True\n",
        "index = int(len(seatIDarr)/2)\n",
        "val = seatIDarr[index]\n",
        "lowVal = val\n",
        "lowIndex = index\n",
        "highVal = val\n",
        "highIndex = index\n",
        "while notFound:\n",
        "  lowVal = lowVal - 1\n",
        "  lowIndex -=1\n",
        "  highVal += 1\n",
        "  highIndex += 1 \n",
        "  if (seatIDarr[lowIndex]!=lowVal):\n",
        "    index = lowIndex\n",
        "    val = lowVal\n",
        "    notFound = False\n",
        "  elif (seatIDarr[highIndex]!= highVal):\n",
        "    index = highIndex\n",
        "    val = highVal\n",
        "    notFound = False\n",
        "\n",
        "print(val)"
      ],
      "execution_count": null,
      "outputs": [
        {
          "output_type": "stream",
          "text": [
            "657\n"
          ],
          "name": "stdout"
        }
      ]
    },
    {
      "cell_type": "markdown",
      "metadata": {
        "id": "r96nRZaVt0hQ"
      },
      "source": [
        "Day 6"
      ]
    },
    {
      "cell_type": "code",
      "metadata": {
        "colab": {
          "base_uri": "https://localhost:8080/"
        },
        "id": "3VkysIAut1bQ",
        "outputId": "20cf5e3d-aee9-40f9-c67f-49663c0be154"
      },
      "source": [
        "### PART 1 ### \n",
        "input = open(\"InputDay6.txt\")\n",
        "data = [value for value in input.read().split(\"\\n\\n\")]\n",
        "\n",
        "sum = 0 \n",
        "\n",
        "for group in data:\n",
        "  questions_set = set()\n",
        "  changed = group.replace(\"\\n\",\"\") ## Remove \\n from string\n",
        "  for question in changed:\n",
        "    questions_set.add(question)\n",
        "  sum += len(questions_set)\n",
        "  \n",
        "print(sum)"
      ],
      "execution_count": null,
      "outputs": [
        {
          "output_type": "stream",
          "text": [
            "6297\n"
          ],
          "name": "stdout"
        }
      ]
    },
    {
      "cell_type": "code",
      "metadata": {
        "colab": {
          "base_uri": "https://localhost:8080/"
        },
        "id": "rvSC8FW4viSs",
        "outputId": "b33595ab-7756-4802-b10f-c2869a86c37a"
      },
      "source": [
        "### PART 2 ###  \n",
        "input = open(\"InputDay6.txt\") \n",
        "data = [value for value in input.read().split(\"\\n\\n\")]\n",
        "\n",
        "## Remove the last new line from the last group as it will be empty. If not removed it will show up as an extra group member\n",
        "data[len(data)-1] = data[len(data)-1][:-1]\n",
        "\n",
        "sum = 0 \n",
        "\n",
        "for group in data:\n",
        "  group_members = group.count(\"\\n\") + 1\n",
        "  changed = group.replace(\"\\n\",\"\")\n",
        "  repeated = set()\n",
        "  for question in changed:\n",
        "    if (changed.count(question)== group_members):\n",
        "      repeated.add(question)\n",
        " \n",
        "  sum += len(repeated)\n",
        "print(sum)"
      ],
      "execution_count": null,
      "outputs": [
        {
          "output_type": "stream",
          "text": [
            "3158\n"
          ],
          "name": "stdout"
        }
      ]
    },
    {
      "cell_type": "markdown",
      "metadata": {
        "id": "wjVeGVgE3vp3"
      },
      "source": [
        "Day 7"
      ]
    },
    {
      "cell_type": "code",
      "metadata": {
        "id": "wiaHqqvL__ze"
      },
      "source": [
        "class Graph: \n",
        "  def __init__ (self,key):\n",
        "    self.id = key\n",
        "    self.contains = []\n",
        "  \n",
        "  def addContains (self,clr,num):\n",
        "    self.contains.append([clr,num])\n",
        "  \n",
        "  def getID (self):\n",
        "    return self.id\n",
        "  def getContains (self):\n",
        "    return self.contains\n",
        "  \n",
        "## Part 1 \n",
        "def findColor(color_node,search_color,color_graph):\n",
        "  \n",
        "  if (color_node.getID()==search_color):\n",
        "    return 1\n",
        "  elif (len(color_node.getContains())==0):\n",
        "    return 0\n",
        "  else: \n",
        "    #print(color_node.getContains())\n",
        "    for x in color_node.getContains():\n",
        "      \n",
        "      for y in color_graph:\n",
        "        \n",
        "        if (x[0] == y.getID()):\n",
        "           if (findColor(y,search_color,color_graph)==1):\n",
        "             return 1\n",
        "           else:\n",
        "             continue\n",
        "  return 0\n",
        "\n",
        "## Part 2 \n",
        "def findBags(color_node,color_graph):\n",
        "  if (len(color_node.getContains())==0):\n",
        "    return 0\n",
        "  else:\n",
        "    sum = 0\n",
        "    for x in color_node.getContains():\n",
        "      for y in color_graph:\n",
        "        if x[0]==y.getID():\n",
        "          sum += int(x[1])*(1+findBags(y,color_graph))\n",
        "          \n",
        "    return sum\n",
        "      \n"
      ],
      "execution_count": null,
      "outputs": []
    },
    {
      "cell_type": "code",
      "metadata": {
        "colab": {
          "base_uri": "https://localhost:8080/"
        },
        "id": "xvrBnT0u3w0v",
        "outputId": "f381a00a-aac1-4efb-a2d2-f8efd0c435bb"
      },
      "source": [
        "### PART 1 ### \n",
        "input = open(\"InputDay7.txt\")\n",
        "data = [value for value in input.read().splitlines()]\n",
        "colors = []\n",
        "for rules in data:\n",
        "  words = rules.split()\n",
        "  rule_color = words[0] + \" \" + words[1]\n",
        "\n",
        "  words = words[4:]\n",
        "  ## Remove anything that contains \"bag\"\n",
        "  words = [ word for word in words if \"bag\" not in word ]\n",
        "  graph = Graph(rule_color)\n",
        "  \n",
        "  for i in range(0,len(words),3):\n",
        "   #print(\"Number \" + words[i])\n",
        "   if (words[i] == \"no\"):\n",
        "     continue\n",
        "   graph.addContains(words[i+1]+\" \"+words[i+2],words[i])\n",
        "  colors.append(graph)\n",
        "\n",
        "sum = 0\n",
        "for color in colors:\n",
        "  sum += findColor(color,\"shiny gold\",colors)\n",
        "  \n",
        "\n",
        "print(sum-1) ##Subtract one because we don't want to count when the shiny gold bag \n",
        "\n",
        "\n"
      ],
      "execution_count": null,
      "outputs": [
        {
          "output_type": "stream",
          "text": [
            "155\n"
          ],
          "name": "stdout"
        }
      ]
    },
    {
      "cell_type": "code",
      "metadata": {
        "colab": {
          "base_uri": "https://localhost:8080/"
        },
        "id": "DshhLu_KIHdC",
        "outputId": "48577681-a7a9-48c5-a0d3-171dee5e3e37"
      },
      "source": [
        "### PART 2 ###\n",
        "for color in colors:\n",
        "  if (\"shiny gold\" == color.getID()):\n",
        "    #print(findBags(color,colors))\n",
        "    print(findBags(color,colors))"
      ],
      "execution_count": null,
      "outputs": [
        {
          "output_type": "stream",
          "text": [
            "54803\n"
          ],
          "name": "stdout"
        }
      ]
    },
    {
      "cell_type": "markdown",
      "metadata": {
        "id": "vP2Z0Nh6scNX"
      },
      "source": [
        "Day 8 "
      ]
    },
    {
      "cell_type": "code",
      "metadata": {
        "colab": {
          "base_uri": "https://localhost:8080/"
        },
        "id": "LnjMZKkdsYw_",
        "outputId": "cb7a367e-4d06-4fa2-e8fe-9238fb23fcbc"
      },
      "source": [
        "### PART 1 ###\n",
        "input = open(\"InputDay8.txt\")\n",
        "data = [value for value in input.read().splitlines()]\n",
        "\n",
        "\n",
        "isVisited = [False for i in range(len(data))] ## Array to store which indexes have already been visited\n",
        "accumulator_count = 0 ## Keep track of accumulator sum\n",
        "index = 0 ## Which index we should visit\n",
        "while not isVisited[index]:\n",
        "  ## Mark index as visited\n",
        "  isVisited[index] = True\n",
        "\n",
        "  operation = data[index][0:3]\n",
        "  argument = int(data[index][4:])\n",
        "  \n",
        "  if (operation == \"acc\"):\n",
        "    accumulator_count += argument\n",
        "    index +=1\n",
        "  elif (operation ==\"jmp\"):\n",
        "    index += argument\n",
        "  else: \n",
        "    ## Operation == \"nop\"\n",
        "    index += 1\n",
        "  \n",
        "print(accumulator_count)\n",
        "  "
      ],
      "execution_count": null,
      "outputs": [
        {
          "output_type": "stream",
          "text": [
            "1528\n"
          ],
          "name": "stdout"
        }
      ]
    },
    {
      "cell_type": "code",
      "metadata": {
        "colab": {
          "base_uri": "https://localhost:8080/"
        },
        "id": "VpYyiUUtwDaZ",
        "outputId": "04a98278-f6f6-41f9-8b0b-4fd06e2265f5"
      },
      "source": [
        "def find_repeat(modified_data):\n",
        "  #print(modified_data[0])\n",
        "  isVisited = [False for i in range(len(modified_data))] ## Array to store which indexes have already been visited\n",
        "  accumulator_count = 0 ## Keep track of accumulator sum\n",
        "  index = 0 ## Which index we should visit\n",
        "  while not isVisited[index]:\n",
        "    ## Mark index as visited\n",
        "    isVisited[index] = True\n",
        "\n",
        "    operation = modified_data[index][0:3]\n",
        "    argument = int(modified_data[index][4:])\n",
        "    \n",
        "    if (operation == \"acc\"):\n",
        "      accumulator_count += argument\n",
        "      index +=1\n",
        "    elif (operation ==\"jmp\"):\n",
        "      index += argument\n",
        "    else: \n",
        "      ## Operation == \"nop\"\n",
        "      index += 1\n",
        "    #print(index,len(modified_data))\n",
        "    if (index>=len(modified_data)):\n",
        "      return True,accumulator_count\n",
        "\n",
        "    elif (index<0):\n",
        "      return False,0\n",
        "  \n",
        "  ## Loop occured - return False\n",
        "  return False,0\n",
        "\n",
        "\n",
        "input = open(\"InputDay8.txt\")\n",
        "data = [value for value in input.read().splitlines()]\n",
        "\n",
        "index = 0\n",
        "\n",
        "for line in data:\n",
        "  operation = line[0:3]\n",
        "  argument = line[4:]\n",
        "\n",
        "  data_copy = data.copy()\n",
        "  if (operation==\"jmp\"):\n",
        "    data_copy[index] = \"nop \" + argument\n",
        "\n",
        "    #print(\"1: \"+ data_copy[index])\n",
        "    \n",
        "  elif (operation==\"nop\"):\n",
        "    data_copy[index] = \"jmp \" + argument\n",
        "    #print(\"2: \"+data_copy[index])\n",
        "  else:\n",
        "    ## operation == \"acc\"\n",
        "    index+=1\n",
        "    continue\n",
        "\n",
        "  #print(\"3: \"+ data_copy[index])\n",
        "  no_loop,acc = find_repeat(data_copy)\n",
        "  if no_loop:\n",
        "    print(acc)\n",
        "    break\n",
        "  \n",
        "\n",
        "  index+=1\n"
      ],
      "execution_count": null,
      "outputs": [
        {
          "output_type": "stream",
          "text": [
            "640\n"
          ],
          "name": "stdout"
        }
      ]
    },
    {
      "cell_type": "markdown",
      "metadata": {
        "id": "P0Ns3bTw7Wbg"
      },
      "source": [
        "Day 9"
      ]
    },
    {
      "cell_type": "code",
      "metadata": {
        "colab": {
          "base_uri": "https://localhost:8080/"
        },
        "id": "G6mE4QLZ7X62",
        "outputId": "16b2f9c7-6902-452f-9fbf-e365ee7dcca8"
      },
      "source": [
        "### PART 1 ### \r\n",
        "input = open(\"InputDay9.txt\")\r\n",
        "data = [int(value) for value in input.read().splitlines()]\r\n",
        "\r\n",
        "preamble = data[0:25]\r\n",
        "remaining = data[25:]\r\n",
        "\r\n",
        "def is_a_sum(num, preamble):\r\n",
        "  for x in preamble:\r\n",
        "    for y in preamble:\r\n",
        "      if (x+y==num and x!=y):\r\n",
        "        return True\r\n",
        "  return False\r\n",
        "\r\n",
        "\r\n",
        "index = 0\r\n",
        "preamble_of_weakness = []\r\n",
        "weakness = 0\r\n",
        "for num in remaining:\r\n",
        "  if (is_a_sum(num,preamble)):\r\n",
        "    preamble[index % 25] = num\r\n",
        "    index +=1\r\n",
        "  else:\r\n",
        "    print(num)\r\n",
        "    weakness = num\r\n",
        "    \r\n",
        "    break"
      ],
      "execution_count": null,
      "outputs": [
        {
          "output_type": "stream",
          "text": [
            "29221323\n"
          ],
          "name": "stdout"
        }
      ]
    },
    {
      "cell_type": "code",
      "metadata": {
        "colab": {
          "base_uri": "https://localhost:8080/"
        },
        "id": "58tnukFzAl25",
        "outputId": "5966fdfd-9cbf-4520-f6d7-fc73ab33e017"
      },
      "source": [
        "### PART 2 ### \r\n",
        "\r\n",
        "##'weakness' stores the weakness\r\n",
        "weak_index = data.index(weakness)\r\n",
        "arr_of_nums = data[0:weak_index]\r\n",
        "for x in range(0,len(arr_of_nums)):\r\n",
        "  sum = arr_of_nums[x]\r\n",
        "  for y in range(x+1,len(arr_of_nums)):\r\n",
        "    #print(x,y)\r\n",
        "    if (sum<weakness):\r\n",
        "      sum += arr_of_nums[y]\r\n",
        "    elif (sum == weakness):\r\n",
        "      cont_range = arr_of_nums[x:y]\r\n",
        "      smallest,largest = min(cont_range),max(cont_range)\r\n",
        "      print(smallest+largest)\r\n",
        "      break\r\n",
        "    else:\r\n",
        "      #print(\"*** \" + str(sum) + \" is greater than \" + str(weakness))\r\n",
        "      break"
      ],
      "execution_count": null,
      "outputs": [
        {
          "output_type": "stream",
          "text": [
            "4389369\n"
          ],
          "name": "stdout"
        }
      ]
    },
    {
      "cell_type": "markdown",
      "metadata": {
        "id": "88sNHHB2NaET"
      },
      "source": [
        "Day 10"
      ]
    },
    {
      "cell_type": "code",
      "metadata": {
        "colab": {
          "base_uri": "https://localhost:8080/"
        },
        "id": "JEHUIZGANbKH",
        "outputId": "da3388e7-66a0-4cbd-a131-c4d6e3488fc0"
      },
      "source": [
        "### PART 1 ### \r\n",
        "input = open(\"InputDay10.txt\")\r\n",
        "\r\n",
        "data = [int(value) for value in input.read().splitlines()]\r\n",
        "data.append(max(data)+3)\r\n",
        "data.sort()\r\n",
        "\r\n",
        "one_difference_count = 0\r\n",
        "three_difference_count = 0\r\n",
        "voltage = 0\r\n",
        "for adapter in data:\r\n",
        "  difference = adapter - voltage\r\n",
        "\r\n",
        "  if (difference == 1):\r\n",
        "    one_difference_count += 1 \r\n",
        "  elif (difference == 3):\r\n",
        "    three_difference_count+=1\r\n",
        "\r\n",
        "  voltage = adapter\r\n",
        "\r\n",
        "print(one_difference_count*three_difference_count)"
      ],
      "execution_count": null,
      "outputs": [
        {
          "output_type": "stream",
          "text": [
            "1820\n"
          ],
          "name": "stdout"
        }
      ]
    },
    {
      "cell_type": "code",
      "metadata": {
        "colab": {
          "base_uri": "https://localhost:8080/"
        },
        "id": "MHfQtOCigntR",
        "outputId": "e9ce7b25-0398-4adf-932f-8a1557ce5016"
      },
      "source": [
        "### PART 2 ### \r\n",
        "input = open(\"InputDay10.txt\")\r\n",
        "data = [int(value) for value in input.read().splitlines()]\r\n",
        "data.sort()\r\n",
        "\r\n",
        "\r\n",
        "poss = {0: 1} ## dictionary that stores number of ways to get to the 'key' for ex. there is 1 way to get to 0\r\n",
        "\r\n",
        "for num in data:\r\n",
        "    counter = 0\r\n",
        "    for x in range(1, 4):\r\n",
        "        if (num-x) in poss: ## the number of ways to get to a num is the sum of the num of ways to get to num-1, num-2, and num-3\r\n",
        "            counter += poss[num-x]\r\n",
        "\r\n",
        "    poss[num] = counter\r\n",
        "\r\n",
        "print(poss[max(data)])"
      ],
      "execution_count": null,
      "outputs": [
        {
          "output_type": "stream",
          "text": [
            "3454189699072\n"
          ],
          "name": "stdout"
        }
      ]
    },
    {
      "cell_type": "code",
      "metadata": {
        "colab": {
          "base_uri": "https://localhost:8080/"
        },
        "id": "UXXD7jaVo1TG",
        "outputId": "b7d755e7-b9ef-4aa9-99f2-8a44feb78da4"
      },
      "source": [
        "## Extra dynamic programming practice - fibonacci sum with dynamic programming\r\n",
        "\r\n",
        "fib_dict = {0:0, 1:1}\r\n",
        "\r\n",
        "def fib(num_to_solve):\r\n",
        "  for num in range(2,num_to_solve+1):\r\n",
        "    fib_dict[num] = fib_dict[num-1] + fib_dict[num-2]\r\n",
        "  print(fib_dict[num_to_solve])\r\n",
        "\r\n",
        "fib(20)"
      ],
      "execution_count": null,
      "outputs": [
        {
          "output_type": "stream",
          "text": [
            "6765\n"
          ],
          "name": "stdout"
        }
      ]
    },
    {
      "cell_type": "markdown",
      "metadata": {
        "id": "x0qEsWIyNu_U"
      },
      "source": [
        "Day 11"
      ]
    },
    {
      "cell_type": "code",
      "metadata": {
        "colab": {
          "base_uri": "https://localhost:8080/"
        },
        "id": "_XKZ9FAJNwQe",
        "outputId": "76578b1e-76fb-4be0-ae55-a080e5bc3e9c"
      },
      "source": [
        "### PART 1 ### \r\n",
        "from copy import deepcopy\r\n",
        "input = open(\"InputDay11.txt\")\r\n",
        "data = [value for value in input.read().splitlines()]\r\n",
        "\r\n",
        "## Create initial array \r\n",
        "seating_array = []\r\n",
        "for row in data:\r\n",
        "  seating_row = []\r\n",
        "  for pos in row:\r\n",
        "    seating_row.append(pos)\r\n",
        "  seating_array.append(seating_row)\r\n",
        "\r\n",
        "\r\n",
        "def findAdjacentSeats(x,y,arr):\r\n",
        "  adjacent_seats = []\r\n",
        "  if (x-1>=0):\r\n",
        "    adjacent_seats.append((x-1,y))\r\n",
        "  if (x+1<len(arr[y])):\r\n",
        "    adjacent_seats.append((x+1,y))\r\n",
        "  if (y-1>=0):\r\n",
        "    adjacent_seats.append((x,y-1))\r\n",
        "  if (y+1<len(arr)):\r\n",
        "    adjacent_seats.append((x,y+1))\r\n",
        "  if (x-1>=0 and y-1>=0):\r\n",
        "    adjacent_seats.append((x-1,y-1))\r\n",
        "  if (x+1<len(arr[y-1]) and y-1>=0):\r\n",
        "    adjacent_seats.append((x+1,y-1))\r\n",
        "  if (x-1>=0 and y+1<len(arr)):\r\n",
        "    adjacent_seats.append((x-1,y+1))\r\n",
        "  if (y+1<len(arr) and x+1<len(arr[y+1])):\r\n",
        "    adjacent_seats.append((x+1,y+1))\r\n",
        "  \r\n",
        "  return adjacent_seats\r\n",
        "\r\n",
        "\r\n",
        "\r\n",
        "## fix seats\r\n",
        "chaos = True\r\n",
        "while chaos:\r\n",
        "  chaos = False\r\n",
        "  changed_seating_array = deepcopy(seating_array)\r\n",
        "\r\n",
        "  for y in range(len(seating_array)):\r\n",
        "    for x in range(len(seating_array[y])):\r\n",
        "      if (seating_array[y][x]==\"L\"):\r\n",
        "        ## Check for adjacent seats \r\n",
        "        adjacent = True\r\n",
        "        for seat in findAdjacentSeats(x,y,seating_array):\r\n",
        "          if (seating_array[seat[1]][seat[0]] == \"#\"):\r\n",
        "            adjacent = False\r\n",
        "            continue\r\n",
        "        if adjacent:\r\n",
        "          changed_seating_array[y][x] = \"#\"\r\n",
        "          chaos = True\r\n",
        "          \r\n",
        "      \r\n",
        "      elif (seating_array[y][x] == \"#\"):\r\n",
        "        adjacent_occupied = 0\r\n",
        "        for seat in findAdjacentSeats(x,y,seating_array):\r\n",
        "          if (seating_array[seat[1]][seat[0]] == \"#\"):\r\n",
        "            adjacent_occupied +=1\r\n",
        "        if (adjacent_occupied>=4):\r\n",
        "          changed_seating_array[y][x] = \"L\"\r\n",
        "          chaos = True\r\n",
        "          \r\n",
        "  seating_array = changed_seating_array\r\n",
        "\r\n",
        "\r\n",
        "## Count occupied seats \r\n",
        "counter = 0\r\n",
        "for y in range(len(seating_array)):\r\n",
        "    for x in range(len(seating_array[y])):\r\n",
        "      if (seating_array[y][x]==\"#\"):\r\n",
        "        counter +=1\r\n",
        "print(counter)\r\n"
      ],
      "execution_count": null,
      "outputs": [
        {
          "output_type": "stream",
          "text": [
            "2310\n"
          ],
          "name": "stdout"
        }
      ]
    },
    {
      "cell_type": "code",
      "metadata": {
        "colab": {
          "base_uri": "https://localhost:8080/"
        },
        "id": "FRMKWU5mgoi5",
        "outputId": "32f7a01d-0c32-4389-d6b4-2c8ecfec2cfd"
      },
      "source": [
        "### PART 2 ### \r\n",
        "from copy import deepcopy\r\n",
        "input = open(\"InputDay11.txt\")\r\n",
        "data = [value for value in input.read().splitlines()]\r\n",
        "\r\n",
        "## Create initial array \r\n",
        "seating_array = []\r\n",
        "for row in data:\r\n",
        "  seating_row = []\r\n",
        "  for pos in row:\r\n",
        "    seating_row.append(pos)\r\n",
        "  seating_array.append(seating_row)\r\n",
        "\r\n",
        "\r\n",
        "def findAdjacentSeats(x,y,arr):\r\n",
        "  adjacent_seats = []\r\n",
        "  stop = 0\r\n",
        "  incrementor = 1\r\n",
        "  while (stop<8):\r\n",
        "    if (x-incrementor>=0):\r\n",
        "      adjacent_seats.append((x-incrementor,y))\r\n",
        "    else:\r\n",
        "      stop +=1\r\n",
        "    if (x+incrementor<len(arr[y])):\r\n",
        "      adjacent_seats.append((x+incrementor,y))\r\n",
        "    else:\r\n",
        "      stop +=1\r\n",
        "    if (y-incrementor>=0):\r\n",
        "      adjacent_seats.append((x,y-incrementor))\r\n",
        "    else:\r\n",
        "      stop +=1\r\n",
        "    if (y+incrementor<len(arr)):\r\n",
        "      adjacent_seats.append((x,y+incrementor))\r\n",
        "    else:\r\n",
        "      stop +=1\r\n",
        "    if (x-incrementor>=0 and y-incrementor>=0):\r\n",
        "      adjacent_seats.append((x-incrementor,y-incrementor))\r\n",
        "    else:\r\n",
        "      stop +=1\r\n",
        "    if (y-incrementor>=0 and x+incrementor<len(arr[y-incrementor])):\r\n",
        "      adjacent_seats.append((x+incrementor,y-incrementor))\r\n",
        "    else:\r\n",
        "      stop +=1\r\n",
        "    if (x-incrementor>=0 and y+incrementor<len(arr)):\r\n",
        "      adjacent_seats.append((x-incrementor,y+incrementor))\r\n",
        "    else:\r\n",
        "      stop +=1\r\n",
        "    if (y+incrementor<len(arr) and x+incrementor<len(arr[y+1])):\r\n",
        "      adjacent_seats.append((x+incrementor,y+incrementor))\r\n",
        "    else:\r\n",
        "      stop +=1\r\n",
        "    \r\n",
        "    incrementor +=1\r\n",
        "  return adjacent_seats\r\n",
        "\r\n",
        "## fix seats\r\n",
        "chaos = True\r\n",
        "while chaos:\r\n",
        "  chaos = False\r\n",
        "  changed_seating_array = deepcopy(seating_array)\r\n",
        "\r\n",
        "  for y in range(len(seating_array)):\r\n",
        "    for x in range(len(seating_array[y])):\r\n",
        "      if (seating_array[y][x]==\"L\"):\r\n",
        "        ## Check for adjacent seats \r\n",
        "        adjacent = True\r\n",
        "        for seat in findAdjacentSeats(x,y,seating_array):\r\n",
        "          if (seating_array[seat[1]][seat[0]] == \"#\"):\r\n",
        "            adjacent = False\r\n",
        "            continue\r\n",
        "        if adjacent:\r\n",
        "          changed_seating_array[y][x] = \"#\"\r\n",
        "          chaos = True\r\n",
        "      \r\n",
        "      elif (seating_array[y][x] == \"#\"):\r\n",
        "        adjacent_occupied = 0\r\n",
        "        for seat in findAdjacentSeats(x,y,seating_array):\r\n",
        "          if (seating_array[seat[1]][seat[0]] == \"#\"):\r\n",
        "            adjacent_occupied +=1\r\n",
        "        if (adjacent_occupied>=5):\r\n",
        "          changed_seating_array[y][x] = \"L\"\r\n",
        "          chaos = True\r\n",
        "        break\r\n",
        "  seating_array = changed_seating_array\r\n",
        "\r\n",
        "\r\n",
        "## Count occupied seats \r\n",
        "counter = 0\r\n",
        "for y in range(len(seating_array)):\r\n",
        "    for x in range(len(seating_array[y])):\r\n",
        "      if (seating_array[y][x]==\"#\"):\r\n",
        "        counter +=1\r\n",
        "print(counter)\r\n"
      ],
      "execution_count": null,
      "outputs": [
        {
          "output_type": "stream",
          "text": [
            "2074\n"
          ],
          "name": "stdout"
        }
      ]
    },
    {
      "cell_type": "markdown",
      "metadata": {
        "id": "0Dt4oIPtqO1D"
      },
      "source": [
        "Day 12"
      ]
    },
    {
      "cell_type": "code",
      "metadata": {
        "id": "nIbor3fNqPxC",
        "colab": {
          "base_uri": "https://localhost:8080/"
        },
        "outputId": "4121d5f9-e1f6-45bf-c0f7-fe4b088b8266"
      },
      "source": [
        "### PART 1 ###\r\n",
        "input = open(\"InputDay12.txt\")\r\n",
        "data = [value for value in input.read().splitlines()]\r\n",
        "\r\n",
        "direction = 0 ## Stands for East \r\n",
        "## position variables\r\n",
        "horizontal = 0\r\n",
        "vertical = 0 \r\n",
        "\r\n",
        "for instruction in data:\r\n",
        "  action = instruction[0]\r\n",
        "  value = int(instruction[1:])\r\n",
        "  if (action == \"L\"):\r\n",
        "    direction += value\r\n",
        "    direction = direction % 360\r\n",
        "  elif (action == \"R\"):\r\n",
        "    direction -= value\r\n",
        "    direction = direction % 360\r\n",
        "  \r\n",
        "  elif (action == \"N\"):\r\n",
        "    vertical += value\r\n",
        "  elif (action == \"S\"):\r\n",
        "    vertical -= value\r\n",
        "  elif (action == \"E\"):\r\n",
        "    horizontal += value\r\n",
        "  elif (action == \"W\"):\r\n",
        "    horizontal -= value\r\n",
        "  \r\n",
        "  elif (action == \"F\"):\r\n",
        "    if (direction == 0 or direction == 360):\r\n",
        "      horizontal += value\r\n",
        "    elif (direction == 90):\r\n",
        "      vertical += value\r\n",
        "    elif (direction == 180):\r\n",
        "      horizontal -= value\r\n",
        "    elif (direction == 270):\r\n",
        "      vertical -= value\r\n",
        "\r\n",
        "print(abs(horizontal)+abs(vertical))"
      ],
      "execution_count": null,
      "outputs": [
        {
          "output_type": "stream",
          "text": [
            "445\n"
          ],
          "name": "stdout"
        }
      ]
    },
    {
      "cell_type": "code",
      "metadata": {
        "colab": {
          "base_uri": "https://localhost:8080/"
        },
        "id": "kqYj_wrCcUkB",
        "outputId": "57eb96b7-739b-4687-c8ba-713fcb3ed1b5"
      },
      "source": [
        "### PART 2 ### \r\n",
        "waypoint = [10,1] ## store horizontal, vertical of the waypoint \r\n",
        "ship = [0,0]\r\n",
        "direction = 0 ## Stands for East \r\n",
        "for instruction in data:\r\n",
        "  action = instruction[0]\r\n",
        "  value = int(instruction[1:])\r\n",
        "  if (action == \"L\"):\r\n",
        "    if (value == 90):\r\n",
        "      temp = waypoint[0]\r\n",
        "      waypoint[0] = (-1*waypoint[1])\r\n",
        "      waypoint[1] = temp\r\n",
        "    elif (value == 180):\r\n",
        "      waypoint[0] = (-1*waypoint[0])\r\n",
        "      waypoint[1] = (-1*waypoint[1])\r\n",
        "    elif (value == 270):\r\n",
        "      temp = waypoint[0]\r\n",
        "      waypoint[0] = waypoint[1]\r\n",
        "      waypoint[1] = temp*-1\r\n",
        "  elif (action == \"R\"):\r\n",
        "    if (value == 90):\r\n",
        "      temp = waypoint[0]\r\n",
        "      waypoint[0] = waypoint[1]\r\n",
        "      waypoint[1] = temp*-1\r\n",
        "    elif (value == 180):\r\n",
        "      waypoint[0] = (-1*waypoint[0])\r\n",
        "      waypoint[1] = (-1*waypoint[1])\r\n",
        "    elif (value == 270):\r\n",
        "      temp = waypoint[0]\r\n",
        "      waypoint[0] = (-1*waypoint[1])\r\n",
        "      waypoint[1] = temp\r\n",
        "  elif (action == \"N\"):\r\n",
        "    waypoint[1] += value\r\n",
        "  elif (action == \"S\"):\r\n",
        "    waypoint[1] -= value\r\n",
        "  elif (action == \"E\"):\r\n",
        "    waypoint[0] += value\r\n",
        "  elif (action == \"W\"):\r\n",
        "    waypoint[0] -= value\r\n",
        "  \r\n",
        "  elif (action == \"F\"):\r\n",
        "    ship[0] += waypoint[0]*value\r\n",
        "    ship[1] += waypoint[1]*value\r\n",
        "  \r\n",
        "\r\n",
        "print(abs(ship[0])+abs(ship[1]))"
      ],
      "execution_count": null,
      "outputs": [
        {
          "output_type": "stream",
          "text": [
            "42495\n"
          ],
          "name": "stdout"
        }
      ]
    },
    {
      "cell_type": "markdown",
      "metadata": {
        "id": "2ZlvqDFUo_EP"
      },
      "source": [
        "Day 13"
      ]
    },
    {
      "cell_type": "code",
      "metadata": {
        "colab": {
          "base_uri": "https://localhost:8080/"
        },
        "id": "c6N6YtFGpAW3",
        "outputId": "79a30c15-af6b-47cc-c03c-beab9181bf8e"
      },
      "source": [
        "### PART 1 ### \r\n",
        "input = open(\"InputDay13.txt\")\r\n",
        "data = [value for value in input.read().splitlines()]\r\n",
        "\r\n",
        "earliest = int(data[0])\r\n",
        "bus_ids = data[1].split(sep=\",\")\r\n",
        "num_ids = []\r\n",
        "for id in bus_ids:\r\n",
        "  if (id!=\"x\"):\r\n",
        "    num_ids.append(int(id))\r\n",
        "\r\n",
        "fastest = earliest\r\n",
        "chosen_id = 0 \r\n",
        "for id in num_ids:\r\n",
        "  diff = id - (earliest % id)\r\n",
        "  if (diff<fastest):\r\n",
        "    fastest = diff\r\n",
        "    chosen_id = id\r\n",
        "print(fastest*chosen_id)"
      ],
      "execution_count": null,
      "outputs": [
        {
          "output_type": "stream",
          "text": [
            "4808\n"
          ],
          "name": "stdout"
        }
      ]
    },
    {
      "cell_type": "code",
      "metadata": {
        "colab": {
          "base_uri": "https://localhost:8080/"
        },
        "id": "gCEMNVAxzn8v",
        "outputId": "1052f47f-b4c9-431a-d410-9f27107f608c"
      },
      "source": [
        "### PART 2 ### \r\n",
        "input = open(\"InputDay13.txt\")\r\n",
        "data = [value for value in input.read().splitlines()]\r\n",
        "bus_ids = data[1].split(sep=\",\")\r\n",
        "\r\n",
        "bus_ids = [(int(x),ix) for ix, x in enumerate(bus_ids) if x != 'x']\r\n",
        "skip = 1 \r\n",
        "timestamp = 100000000000000\r\n",
        "while bus_ids:\r\n",
        "  for value,index in bus_ids:\r\n",
        "    if (timestamp + index) % value == 0:\r\n",
        "      ## Remove and change skip value because we know that the pattern of values will be repeated at every factor of skip\r\n",
        "      bus_ids.remove((value,index))\r\n",
        "      skip *= value\r\n",
        "    else: \r\n",
        "      timestamp += skip ## Increases by the skip value because the values we have removed from bus_ids will repeat, we are now looking for the location where the next value will fit in the pattern\r\n",
        "      break\r\n",
        "\r\n",
        "print(timestamp)\r\n",
        "      "
      ],
      "execution_count": null,
      "outputs": [
        {
          "output_type": "stream",
          "text": [
            "741745043105674\n"
          ],
          "name": "stdout"
        }
      ]
    },
    {
      "cell_type": "markdown",
      "metadata": {
        "id": "2QWnn5IxoYFq"
      },
      "source": [
        "Day 14"
      ]
    },
    {
      "cell_type": "code",
      "metadata": {
        "colab": {
          "base_uri": "https://localhost:8080/"
        },
        "id": "qgAMKPT7oY-6",
        "outputId": "6ff9e720-f8f1-477b-8d29-99b7089980f7"
      },
      "source": [
        "### PART 1 ###\r\n",
        "from numpy import binary_repr\r\n",
        "\r\n",
        "input = open(\"InputDay14.txt\")\r\n",
        "data = [value for value in input.read().splitlines()]\r\n",
        "\r\n",
        "mem_dict = {}\r\n",
        "mask = \"\"\r\n",
        "for line in data:\r\n",
        "  if (line[0:4] == \"mask\"):\r\n",
        "    mask = line[7:]\r\n",
        "  else: \r\n",
        "    ##\r\n",
        "    start,end = line.index(\"[\"), line.index(\"]\")\r\n",
        "    address = int(line[start+1:end])\r\n",
        "    val = int(line[line.index(\"=\")+2:])\r\n",
        "    binary_str = str(binary_repr(val))\r\n",
        "    binary_str = binary_str.zfill(36)\r\n",
        "    \r\n",
        "    ## Loop through and apply the mask\r\n",
        "    for x in range(len(mask)):\r\n",
        "      if (mask[x]!=\"X\"):\r\n",
        "        b_list = list(binary_str)\r\n",
        "        b_list[x] = mask[x]\r\n",
        "        binary_str = \"\".join(b_list)\r\n",
        "\r\n",
        "    ## Convert binary_str back to decimal value and store in address \r\n",
        "    val = int(binary_str,2)\r\n",
        "    mem_dict[address] = val\r\n",
        "\r\n",
        "## Sum up values in mem_dict \r\n",
        "sum = 0\r\n",
        "for i in mem_dict.values():\r\n",
        "  sum += i\r\n",
        "print(sum)"
      ],
      "execution_count": null,
      "outputs": [
        {
          "output_type": "stream",
          "text": [
            "13476250121721\n"
          ],
          "name": "stdout"
        }
      ]
    },
    {
      "cell_type": "code",
      "metadata": {
        "colab": {
          "base_uri": "https://localhost:8080/"
        },
        "id": "kfANox5UyoyA",
        "outputId": "df0f8ebf-6065-4f7d-deff-a45d62feb377"
      },
      "source": [
        "### PART 2 ### \r\n",
        "from numpy import binary_repr\r\n",
        "from itertools import product\r\n",
        "\r\n",
        "\r\n",
        "mem_dict = {}\r\n",
        "mask = \"\"\r\n",
        "for line in data:\r\n",
        "  if (line[0:4] == \"mask\"):\r\n",
        "    mask = line[7:]\r\n",
        "  else: \r\n",
        "    ##\r\n",
        "    start,end = line.index(\"[\"), line.index(\"]\")\r\n",
        "    address = int(line[start+1:end])\r\n",
        "    val = int(line[line.index(\"=\")+2:])\r\n",
        "    binary_str = str(binary_repr(address))\r\n",
        "    binary_str = binary_str.zfill(36)\r\n",
        "    \r\n",
        "    ## Loop through and apply the mask\r\n",
        "    x_count = 0\r\n",
        "    for x in range(len(mask)):\r\n",
        "      if (mask[x]!=\"0\"):\r\n",
        "        if (mask[x]==\"X\"):\r\n",
        "          x_count+=1\r\n",
        "        b_list = list(binary_str)\r\n",
        "        b_list[x] = mask[x]\r\n",
        "        binary_str = \"\".join(b_list)\r\n",
        "    \r\n",
        "    x_poss = product(range(2),repeat=x_count)\r\n",
        "    \r\n",
        "    for pos in x_poss:\r\n",
        "    \r\n",
        "      index = 0\r\n",
        "      binary_str_mod = binary_str\r\n",
        "      for y in range(len(binary_str)):\r\n",
        "        if (binary_str[y]==\"X\"):\r\n",
        "          b_list = list(binary_str_mod)\r\n",
        "          \r\n",
        "          b_list[y] = str(pos[index])\r\n",
        "         \r\n",
        "          binary_str_mod = \"\".join(b_list)\r\n",
        "          index +=  1\r\n",
        "      \r\n",
        "      ## Convert binary_str back to decimal value and store in address\r\n",
        "      address = int(binary_str_mod,2)\r\n",
        "      mem_dict[address] = val\r\n",
        "    if (x_count == 0):\r\n",
        "      ## Convert binary_str back to decimal value and store in address \r\n",
        "      address = int(binary_str,2)\r\n",
        "      mem_dict[address] = val\r\n",
        "    \r\n",
        "## Sum up values in mem_dict \r\n",
        "sum = 0\r\n",
        "for i in mem_dict.values():\r\n",
        "  sum += i\r\n",
        "print(sum)"
      ],
      "execution_count": null,
      "outputs": [
        {
          "output_type": "stream",
          "text": [
            "4463708436768\n"
          ],
          "name": "stdout"
        }
      ]
    },
    {
      "cell_type": "markdown",
      "metadata": {
        "id": "HfhSydnTqU_T"
      },
      "source": [
        "Day 15 (Input: 7,12,1,0,16,2)"
      ]
    },
    {
      "cell_type": "code",
      "metadata": {
        "colab": {
          "base_uri": "https://localhost:8080/"
        },
        "id": "OR3mC9sDqV1p",
        "outputId": "ed7d86e7-c1ba-4c50-81de-fdcb6c335e0a"
      },
      "source": [
        "### PART 1 & 2 ### \r\n",
        "input = [7,12,1,0,16,2]\r\n",
        "nums_dict = {7:1,12:2,1:3,0:4,16:5,2:6}\r\n",
        "turn = len(input) + 1\r\n",
        "prev_number = input[len(input)-1]\r\n",
        "first = True\r\n",
        "while (turn<=30000000): ## USE 2020 for part 1 \r\n",
        "  if first:\r\n",
        "    #nums_dict[0] = turn\r\n",
        "    prev_number = 0\r\n",
        "    first = False\r\n",
        "  elif (prev_number in nums_dict.keys()):\r\n",
        "    ## update and calculate age and set age to prev number \r\n",
        "    age = turn - nums_dict[prev_number] -1\r\n",
        "    nums_dict[prev_number] = turn -1 \r\n",
        "    prev_number = age\r\n",
        "  else:\r\n",
        "    nums_dict[prev_number] = turn -1 \r\n",
        "    prev_number = 0\r\n",
        "  turn += 1 \r\n",
        "\r\n",
        "print(prev_number)"
      ],
      "execution_count": null,
      "outputs": [
        {
          "output_type": "stream",
          "text": [
            "238\n"
          ],
          "name": "stdout"
        }
      ]
    },
    {
      "cell_type": "markdown",
      "metadata": {
        "id": "y5TDguxpRN6p"
      },
      "source": [
        "Day 16"
      ]
    },
    {
      "cell_type": "code",
      "metadata": {
        "colab": {
          "base_uri": "https://localhost:8080/"
        },
        "id": "nwsPbLosROv_",
        "outputId": "e1634fd6-9d07-4427-bbd8-5d0e5171ea26"
      },
      "source": [
        "### PART 1 ### \r\n",
        "import re\r\n",
        "\r\n",
        "input = open(\"InputDay16.txt\")\r\n",
        "data = [value for value in input.read().splitlines()]\r\n",
        "# Get rules \r\n",
        "rules_dict = {}\r\n",
        "for x in range(20):\r\n",
        "  start = data[x].index(\":\")\r\n",
        "  first_dash = data[x].index(\"-\")\r\n",
        "  or_index = data[x].index(\"or\")\r\n",
        "  rule_name = data[x][:start]\r\n",
        "  temp = re.findall(r'\\d+', data[x]) \r\n",
        "  res = list(map(int, temp))\r\n",
        "  range_of_values = list(range(res[0],res[1]+1)) + list(range(res[2],res[3]+1))\r\n",
        "  rules_dict[rule_name] = range_of_values\r\n",
        "\r\n",
        "invalid_tickets = []\r\n",
        "sum = 0\r\n",
        "for i in range(25,len(data)):\r\n",
        "  nums = data[i].split(\",\")\r\n",
        "  \r\n",
        "  for num in nums:\r\n",
        "    found = False \r\n",
        "    for rule in rules_dict.values():\r\n",
        "      if int(num) in rule:\r\n",
        "        found = True\r\n",
        "    if not found:\r\n",
        "      invalid_tickets.append(i)\r\n",
        "      sum+= int(num)\r\n",
        "print(sum)"
      ],
      "execution_count": null,
      "outputs": [
        {
          "output_type": "stream",
          "text": [
            "20231\n"
          ],
          "name": "stdout"
        }
      ]
    },
    {
      "cell_type": "code",
      "metadata": {
        "id": "y29mt3g7bkGT"
      },
      "source": [
        "### PART 2 ### \r\n",
        "\r\n",
        "# Discard invalid tickets \r\n",
        "for ticket in sorted(invalid_tickets, reverse=True):\r\n",
        "    del data[ticket]"
      ],
      "execution_count": null,
      "outputs": []
    },
    {
      "cell_type": "code",
      "metadata": {
        "id": "BuIXYwKxY7hg",
        "colab": {
          "base_uri": "https://localhost:8080/"
        },
        "outputId": "57c8fe27-aebe-41ef-8384-b9c628d42cef"
      },
      "source": [
        "## Find which fields are which in tickets \r\n",
        "tickets = data[25:]\r\n",
        "tickets.append(data[22]) ## add 'my ticket' to the tickets list \r\n",
        "\r\n",
        "columns_list = [[] for x in range(20)]\r\n",
        "\r\n",
        "for ticket in tickets:\r\n",
        "  temp = re.findall(r'\\d+', ticket) \r\n",
        "  res = list(map(int, temp))\r\n",
        "  for i in range(len(res)):\r\n",
        "    columns_list[i].append(res[i])\r\n",
        "\r\n",
        "val_to_rule_dict = {}\r\n",
        "for key in rules_dict.keys():\r\n",
        "  val_to_rule_dict[key] = [0,[]]\r\n",
        "counter = 0 \r\n",
        "for column in columns_list:\r\n",
        "  \r\n",
        "  column_found = False\r\n",
        "  for rule in rules_dict:\r\n",
        "    if not column_found:\r\n",
        "      found = True \r\n",
        "      for val in column:\r\n",
        "        if val not in rules_dict[rule]:\r\n",
        "          found = False\r\n",
        "      if found:\r\n",
        "        val_to_rule_dict[rule][0] +=1\r\n",
        "        val_to_rule_dict[rule][1].append(counter)\r\n",
        "        \r\n",
        "  counter +=1\r\n",
        "\r\n",
        "## With possible columns for each rule, assign rules to columns based on the number of possibilities for each rule\r\n",
        "sorted_dict = sorted(val_to_rule_dict.items(),key=lambda x: x[1])\r\n",
        "used = []\r\n",
        "final_dict = {}\r\n",
        "for rule in sorted_dict:\r\n",
        "  for column in rule[1][1]:\r\n",
        "    if column not in used:\r\n",
        "      final_dict[rule[0]] = column\r\n",
        "      used.append(column)\r\n",
        "print(final_dict) ## final_dict gives the corresponding column for each rule\r\n",
        "## Answer = 137*89*149*97*109*101 (I manually found the values at each column that had a rule starting with 'departure')\r\n",
        "print(137*89*149*97*109*101)"
      ],
      "execution_count": null,
      "outputs": [
        {
          "output_type": "stream",
          "text": [
            "{'class': 3, 'wagon': 14, 'arrival location': 2, 'arrival station': 16, 'arrival platform': 1, 'row': 11, 'route': 10, 'price': 12, 'seat': 19, 'departure time': 18, 'departure station': 5, 'departure date': 4, 'departure location': 17, 'departure platform': 15, 'departure track': 6, 'train': 8, 'arrival track': 7, 'duration': 13, 'type': 0, 'zone': 9}\n",
            "1940065747861\n"
          ],
          "name": "stdout"
        }
      ]
    },
    {
      "cell_type": "markdown",
      "metadata": {
        "id": "TyRQ_Rs0MnQ-"
      },
      "source": [
        "Day 17"
      ]
    },
    {
      "cell_type": "code",
      "metadata": {
        "colab": {
          "base_uri": "https://localhost:8080/"
        },
        "id": "T3EFSrpDMoH7",
        "outputId": "0c580af0-f1c5-46dc-941f-ba72d0164fd7"
      },
      "source": [
        "### PART 1 ### \r\n",
        "import itertools\r\n",
        "input = open(\"InputDay17.txt\")\r\n",
        "data = [value for value in input.read().splitlines()]\r\n",
        "\r\n",
        "## Read in coordinates for initial flat region\r\n",
        "status_dict = {} #use 0 to store inactive and 1 for active\r\n",
        "z = 0\r\n",
        "for y in range(len(data)):\r\n",
        "  for x in range(len(data[y])):\r\n",
        "    if data[y][x] ==\".\":\r\n",
        "      status_dict[(x,y,z)] = 0\r\n",
        "    else:\r\n",
        "      status_dict[(x,y,z)] = 1 \r\n",
        "\r\n",
        "def find_neighbors(coordinate):\r\n",
        "  neighbors = []\r\n",
        "  directions = list(itertools.product((-1, 0, 1), repeat=3))\r\n",
        "  for direction in directions:\r\n",
        "    if direction != (0,0,0):\r\n",
        "      neighbors.append((coordinate[0]+direction[0],coordinate[1]+direction[1],coordinate[2]+direction[2]))\r\n",
        "  return neighbors\r\n",
        "\r\n",
        "## Go through cycles\r\n",
        "for i in range(6):\r\n",
        "  status_dict_copy = {}\r\n",
        "  for coord in status_dict:\r\n",
        "    neighbors = find_neighbors(coord)\r\n",
        "    for neighbor in neighbors:\r\n",
        "      if status_dict.get(neighbor) == None:\r\n",
        "        status_dict_copy[neighbor] = 0\r\n",
        "      else:\r\n",
        "        status_dict_copy[neighbor] = status_dict[neighbor]\r\n",
        "  status_dict_second_copy = {}\r\n",
        "  for coord in status_dict_copy:\r\n",
        "    neighbors = find_neighbors(coord)\r\n",
        "    active_count = 0 \r\n",
        "    for neighbor in neighbors:\r\n",
        "      if status_dict_copy.get(neighbor) != None:\r\n",
        "        if status_dict_copy[neighbor] == 1:\r\n",
        "          active_count += 1\r\n",
        "    if status_dict_copy[coord] == 0:\r\n",
        "      if active_count == 3:\r\n",
        "        # switch to active\r\n",
        "        status_dict_second_copy[coord] = 1\r\n",
        "      else:\r\n",
        "        status_dict_second_copy[coord] = 0\r\n",
        "    else:\r\n",
        "      if (not(active_count == 2 or active_count == 3)):\r\n",
        "        # switch to inactive\r\n",
        "        status_dict_second_copy[coord] = 0\r\n",
        "      else:\r\n",
        "        status_dict_second_copy[coord] = 1 \r\n",
        "  status_dict = status_dict_second_copy\r\n",
        "\r\n",
        "## Count # of actives\r\n",
        "sum = 0\r\n",
        "for num in status_dict.values():\r\n",
        "  if num == 1:\r\n",
        "    sum +=1\r\n",
        "print(sum)"
      ],
      "execution_count": null,
      "outputs": [
        {
          "output_type": "stream",
          "text": [
            "242\n"
          ],
          "name": "stdout"
        }
      ]
    },
    {
      "cell_type": "code",
      "metadata": {
        "colab": {
          "base_uri": "https://localhost:8080/"
        },
        "id": "XKrTvCC6hFRj",
        "outputId": "75f328fa-652c-4937-d0ae-62ae73580eb9"
      },
      "source": [
        "### PART 2 ### \r\n",
        "### PART 1 ### \r\n",
        "import itertools\r\n",
        "input = open(\"InputDay17.txt\")\r\n",
        "data = [value for value in input.read().splitlines()]\r\n",
        "\r\n",
        "## Read in coordinates for initial flat region\r\n",
        "status_dict = {} #use 0 to store inactive and 1 for active\r\n",
        "z = 0\r\n",
        "w = 0\r\n",
        "for y in range(len(data)):\r\n",
        "  for x in range(len(data[y])):\r\n",
        "    if data[y][x] ==\".\":\r\n",
        "      status_dict[(x,y,z,w)] = 0\r\n",
        "    else:\r\n",
        "      status_dict[(x,y,z,w)] = 1 \r\n",
        "\r\n",
        "def find_neighbors(coordinate):\r\n",
        "  neighbors = []\r\n",
        "  directions = list(itertools.product((-1, 0, 1), repeat=4))\r\n",
        "  for direction in directions:\r\n",
        "    if direction != (0,0,0,0):\r\n",
        "      neighbors.append((coordinate[0]+direction[0],coordinate[1]+direction[1],coordinate[2]+direction[2],coordinate[3]+direction[3]))\r\n",
        "  return neighbors\r\n",
        "\r\n",
        "## Go through cycles\r\n",
        "for i in range(6):\r\n",
        "  status_dict_copy = {}\r\n",
        "  for coord in status_dict:\r\n",
        "    neighbors = find_neighbors(coord)\r\n",
        "    for neighbor in neighbors:\r\n",
        "      if status_dict.get(neighbor) == None:\r\n",
        "        status_dict_copy[neighbor] = 0\r\n",
        "      else:\r\n",
        "        status_dict_copy[neighbor] = status_dict[neighbor]\r\n",
        "  status_dict_second_copy = {}\r\n",
        "  for coord in status_dict_copy:\r\n",
        "    neighbors = find_neighbors(coord)\r\n",
        "    active_count = 0 \r\n",
        "    for neighbor in neighbors:\r\n",
        "      if status_dict_copy.get(neighbor) != None:\r\n",
        "        if status_dict_copy[neighbor] == 1:\r\n",
        "          active_count += 1\r\n",
        "    if status_dict_copy[coord] == 0:\r\n",
        "      if active_count == 3:\r\n",
        "        # switch to active\r\n",
        "        status_dict_second_copy[coord] = 1\r\n",
        "      else:\r\n",
        "        status_dict_second_copy[coord] = 0\r\n",
        "    else:\r\n",
        "      if (not(active_count == 2 or active_count == 3)):\r\n",
        "        # switch to inactive\r\n",
        "        status_dict_second_copy[coord] = 0\r\n",
        "      else:\r\n",
        "        status_dict_second_copy[coord] = 1 \r\n",
        "  status_dict = status_dict_second_copy\r\n",
        "\r\n",
        "## Count # of actives\r\n",
        "sum = 0\r\n",
        "for num in status_dict.values():\r\n",
        "  if num == 1:\r\n",
        "    sum +=1\r\n",
        "print(sum)"
      ],
      "execution_count": null,
      "outputs": [
        {
          "output_type": "stream",
          "text": [
            "2292\n"
          ],
          "name": "stdout"
        }
      ]
    },
    {
      "cell_type": "markdown",
      "metadata": {
        "id": "r9s42qxWN5dQ"
      },
      "source": [
        "Day 18"
      ]
    },
    {
      "cell_type": "code",
      "metadata": {
        "colab": {
          "base_uri": "https://localhost:8080/"
        },
        "id": "1IoGKBQVN6uV",
        "outputId": "bcc45e81-e57e-4a5b-d326-a70bb1bbb360"
      },
      "source": [
        "### PART 1 ### \r\n",
        "input = open(\"InputDay18.txt\")\r\n",
        "data = [value for value in input.read().splitlines()]\r\n",
        "\r\n",
        "def calculate(expression, start, end):\r\n",
        "    current = start\r\n",
        "    answer = 0\r\n",
        "    add = True\r\n",
        "\r\n",
        "    while current < end:\r\n",
        "\r\n",
        "        if expression[current] == \"+\":\r\n",
        "            add = True\r\n",
        "        elif expression[current] == \"*\":\r\n",
        "            add = False\r\n",
        "        elif expression[current] == \"(\":\r\n",
        "\r\n",
        "            parentheses_value = 1\r\n",
        "            parentheses_end = current + 1\r\n",
        "            ## find the innermost paranthesis pair and then recursively evaluate them till back at outermost \r\n",
        "            while parentheses_value > 0:\r\n",
        "                if expression[parentheses_end] == \")\":\r\n",
        "                    parentheses_value -= 1\r\n",
        "                elif expression[parentheses_end] == \"(\":\r\n",
        "                    parentheses_value += 1\r\n",
        "                parentheses_end += 1\r\n",
        "            parentheses_end -= 1\r\n",
        "            if add:\r\n",
        "                answer += calculate(expression, current+1,parentheses_end)\r\n",
        "            else:\r\n",
        "                answer *= calculate(expression, current + 1, parentheses_end)\r\n",
        "            current = parentheses_end\r\n",
        "        elif expression[current] != \" \":\r\n",
        "            if add:\r\n",
        "                answer += int(expression[current])\r\n",
        "            else:\r\n",
        "                answer *= int(expression[current])\r\n",
        "        current += 1\r\n",
        "\r\n",
        "    return answer\r\n",
        "\r\n",
        "sum = 0\r\n",
        "for problem in data:\r\n",
        "  problem = problem.strip()\r\n",
        "  sum += calculate(problem, 0, len(problem))\r\n",
        "print(sum)"
      ],
      "execution_count": null,
      "outputs": [
        {
          "output_type": "stream",
          "text": [
            "14208061823964\n"
          ],
          "name": "stdout"
        }
      ]
    },
    {
      "cell_type": "code",
      "metadata": {
        "colab": {
          "base_uri": "https://localhost:8080/"
        },
        "id": "X1EtB0u-SpEQ",
        "outputId": "ea912c18-3de6-4ccc-87cf-4896b30d500e"
      },
      "source": [
        "### PART 2 ### \r\n",
        "from functools import reduce\r\n",
        "\r\n",
        "def calculate(expression, start, end):\r\n",
        "    current = start\r\n",
        "    answer = []\r\n",
        "    current_ans = 0\r\n",
        "\r\n",
        "    while current < end:\r\n",
        "\r\n",
        "        if expression[current] == \"*\":\r\n",
        "            answer.append(current_ans)\r\n",
        "            current_ans = 0\r\n",
        "        elif expression[current] == \"(\":\r\n",
        "            parentheses_value = 1\r\n",
        "            parentheses_end = current + 1\r\n",
        "            ## find the innermost paranthesis pair and then recursively evaluate them till back at outermost \r\n",
        "            while parentheses_value > 0:\r\n",
        "                if expression[parentheses_end] == \")\":\r\n",
        "                    parentheses_value -= 1\r\n",
        "                elif expression[parentheses_end] == \"(\":\r\n",
        "                    parentheses_value += 1\r\n",
        "                parentheses_end += 1\r\n",
        "            parentheses_end -= 1\r\n",
        "\r\n",
        "            current_ans += calculate(expression, current+1,parentheses_end)\r\n",
        "            current = parentheses_end\r\n",
        "\r\n",
        "        elif expression[current] != \" \" and expression[current] != \"+\":\r\n",
        "            current_ans += int(expression[current])\r\n",
        "\r\n",
        "        current += 1\r\n",
        "    answer.append(current_ans)\r\n",
        "\r\n",
        "    return reduce((lambda x, y: x * y), answer)\r\n",
        "\r\n",
        "## Find answer \r\n",
        "sum = 0\r\n",
        "for problem in data:\r\n",
        "  problem = problem.strip()\r\n",
        "  sum += calculate(problem, 0, len(problem))\r\n",
        "print(sum)"
      ],
      "execution_count": null,
      "outputs": [
        {
          "output_type": "stream",
          "text": [
            "320536571743074\n"
          ],
          "name": "stdout"
        }
      ]
    },
    {
      "cell_type": "markdown",
      "metadata": {
        "id": "iB8xivgMTSb8"
      },
      "source": [
        "Day 19"
      ]
    },
    {
      "cell_type": "code",
      "metadata": {
        "colab": {
          "base_uri": "https://localhost:8080/"
        },
        "id": "LsOf66b64HKK",
        "outputId": "67f78c9c-c479-44a5-9ad7-1ab9db845e35"
      },
      "source": [
        "### PART 1 ### \r\n",
        " \r\n",
        "input = open(\"InputDay19.txt\")\r\n",
        "data = [value for value in input.read().splitlines()]\r\n",
        "\r\n",
        "rules = data[:135]\r\n",
        "messages = data[136:]\r\n",
        "\r\n",
        "rules_dict = {}\r\n",
        "for rule in rules:\r\n",
        "  colon_index = rule.index(\":\")\r\n",
        "  rule_num = int(rule[:colon_index])\r\n",
        "  rule_pattern = rule[colon_index+2:]\r\n",
        "  rules_dict[rule_num] = rule_pattern\r\n",
        "\r\n",
        "\r\n",
        "possible_messages = {}\r\n",
        "def message_rule(num):\r\n",
        "  if num in possible_messages.keys():\r\n",
        "    return possible_messages[num]\r\n",
        "  breakdown = rules_dict[num].split(\" \")\r\n",
        "  \r\n",
        "  possible_arr = []\r\n",
        "  finalized_arr = []\r\n",
        "  first = True\r\n",
        "  for element in breakdown:\r\n",
        "    if \"a\" in element or \"b\" in element:\r\n",
        "      possible_arr.append(element.replace('\"',''))\r\n",
        "    elif element.isnumeric():\r\n",
        "     \r\n",
        "      arr = message_rule(int(element))\r\n",
        "      if first:\r\n",
        "        for x in arr:\r\n",
        "          possible_arr.append(x)\r\n",
        "        first = False\r\n",
        "      else: \r\n",
        "        new_arr = []\r\n",
        "        for y in possible_arr:\r\n",
        "          for x in arr:\r\n",
        "            new_arr.append(y+x)\r\n",
        "        possible_arr = []\r\n",
        "        possible_arr = new_arr\r\n",
        "    else:\r\n",
        "      # |\r\n",
        "      finalized_arr = possible_arr\r\n",
        "      possible_arr = []\r\n",
        "      first = True\r\n",
        "  for z in possible_arr:\r\n",
        "    finalized_arr.append(z)\r\n",
        "  possible_messages[num] = finalized_arr\r\n",
        "  return finalized_arr\r\n",
        "  \r\n",
        "\r\n",
        "message_rule(0)\r\n",
        "rule_zero_counter = 0 \r\n",
        "for message in messages:\r\n",
        "  if message in possible_messages[0]:\r\n",
        "    rule_zero_counter +=1\r\n",
        "print(rule_zero_counter)"
      ],
      "execution_count": null,
      "outputs": [
        {
          "output_type": "stream",
          "text": [
            "124\n"
          ],
          "name": "stdout"
        }
      ]
    },
    {
      "cell_type": "code",
      "metadata": {
        "id": "hRoWD7YJTU-a",
        "colab": {
          "base_uri": "https://localhost:8080/"
        },
        "outputId": "a2c953b9-a242-4ccd-ecee-f7908ccbd6f8"
      },
      "source": [
        "### PART 2 ### \r\n",
        "import regex\r\n",
        " \r\n",
        "with open(\"InputDay19.txt\") as f:\r\n",
        "    rule_text, match_strings = f.read().split(\"\\n\\n\")\r\n",
        " \r\n",
        "rules = {}\r\n",
        "for l in rule_text.split(\"\\n\"):\r\n",
        "    ix, rule = l.split(\":\")\r\n",
        "    if '\"' in rule:\r\n",
        "        rules[int(ix)] = rule.strip('\" \\n')\r\n",
        "    else:\r\n",
        "        rules[int(ix)] = [[int(p) for p in part.strip().split(\" \")] for part in rule.split(\"|\")]\r\n",
        " \r\n",
        " \r\n",
        "def define_regexp(i):\r\n",
        "    if isinstance(rules[i], str):\r\n",
        "        p = rules[i]\r\n",
        "    else:  # list of lists\r\n",
        "        options = [\"\".join(f\"(?&r{j})\" for j in option) for option in rules[i]]\r\n",
        "        p = \"|\".join(f\"(?:{r})\" for r in options)\r\n",
        "    return f\"(?P<r{i}>{p})\"\r\n",
        " \r\n",
        " \r\n",
        "for part in [1, 2]:\r\n",
        "    if part == 2:\r\n",
        "        rules.update({8: [[42], [42, 8]], 11: [[42, 31], [42, 11, 31]]})\r\n",
        "    definitions = \"(?(DEFINE)\" + \"\".join(define_regexp(k) for k in rules.keys()) + \")\"\r\n",
        "    pattern = regex.compile(definitions + \"^(?&r0)$\")\r\n",
        "    count = sum(pattern.match(s) is not None for s in match_strings.split(\"\\n\"))\r\n",
        "    print(count)"
      ],
      "execution_count": null,
      "outputs": [
        {
          "output_type": "stream",
          "text": [
            "124\n",
            "228\n"
          ],
          "name": "stdout"
        }
      ]
    },
    {
      "cell_type": "markdown",
      "metadata": {
        "id": "IA1FAMEtpscQ"
      },
      "source": [
        "Day 20"
      ]
    },
    {
      "cell_type": "code",
      "metadata": {
        "id": "2zslNv_J-xKq",
        "colab": {
          "base_uri": "https://localhost:8080/"
        },
        "outputId": "c9a33213-b986-4f52-a491-8b0e9e09bb10"
      },
      "source": [
        "### PART 1 ### \r\n",
        "input = open(\"InputDay20.txt\")\r\n",
        "tiles = [value for value in input.read().split(\"\\n\\n\")]\r\n",
        "tiles.pop()\r\n",
        "\r\n",
        "\r\n",
        "tiles_dict = {}\r\n",
        "tiles_pattern = {}\r\n",
        "for tile in tiles:\r\n",
        "  num = int(tile[5:9])\r\n",
        "  \r\n",
        "  ## Get side patterns\r\n",
        "  pattern = tile.split(\"\\n\")[1:] ## drop the tile number/label\r\n",
        "  top = pattern[0]\r\n",
        "  bottom = pattern[len(pattern)-1]\r\n",
        "  left = \"\"\r\n",
        "  right = \"\"\r\n",
        "  for line in pattern:\r\n",
        "    left += line[0]\r\n",
        "    right += line[len(line)-1]\r\n",
        "  tiles_pattern[num] = pattern\r\n",
        "  tiles_dict[num] = [top,bottom,left,right] ## 0- top, 1- bottom, 2 - left , 3 - right\r\n",
        "\r\n",
        "edge_dictionary = {}\r\n",
        "edge_counter = {num:0 for num in tiles_dict.keys()}\r\n",
        "for tile in tiles_dict:\r\n",
        "  \r\n",
        "  copied_dict = {k:tiles_dict[k] for k in tiles_dict.keys() if k != tile}\r\n",
        "  reverse_dict = {}\r\n",
        "  for k in copied_dict.keys():\r\n",
        "    reverse_arr = []\r\n",
        "    for pattern in copied_dict[k]:\r\n",
        "      reverse_arr.append(pattern[len(pattern)::-1])\r\n",
        "    reverse_dict[k] = reverse_arr\r\n",
        "  \r\n",
        "  edges = []\r\n",
        "  t = Tile_Impl(tile)\r\n",
        "  for square in copied_dict:\r\n",
        "    ## Check top\r\n",
        "    if (tiles_dict[tile][0] in copied_dict[square] or tiles_dict[tile][0] in reverse_dict[square]):\r\n",
        "      t.top = square\r\n",
        "      edges.append(square)\r\n",
        "      edge_counter[tile] +=1\r\n",
        "    ## Check bottom\r\n",
        "    elif (tiles_dict[tile][1] in copied_dict[square] or tiles_dict[tile][1] in reverse_dict[square]):\r\n",
        "      t.bottom = square\r\n",
        "      edges.append(square)\r\n",
        "      edge_counter[tile] +=1\r\n",
        "    ## Check left\r\n",
        "    elif (tiles_dict[tile][2] in copied_dict[square] or tiles_dict[tile][2] in reverse_dict[square]):\r\n",
        "      t.left = square\r\n",
        "      edges.append(square)\r\n",
        "      edge_counter[tile] +=1\r\n",
        "    ## Check right\r\n",
        "    elif (tiles_dict[tile][3] in copied_dict[square] or tiles_dict[tile][3] in reverse_dict[square]):\r\n",
        "      t.right = square\r\n",
        "      edges.append(square)\r\n",
        "      edge_counter[tile] +=1\r\n",
        "  edge_dictionary[tile] = t\r\n",
        "corners = []\r\n",
        "for edge in edge_counter:\r\n",
        "  if edge_counter[edge] == 2:\r\n",
        "    corners.append(edge)\r\n",
        "\r\n",
        "multiple = 1 \r\n",
        "for corner in corners:\r\n",
        "  multiple*=corner\r\n",
        "\r\n",
        "print(multiple)\r\n"
      ],
      "execution_count": null,
      "outputs": [
        {
          "output_type": "stream",
          "text": [
            "7901522557967\n"
          ],
          "name": "stdout"
        }
      ]
    },
    {
      "cell_type": "code",
      "metadata": {
        "id": "jsM1ext98Pi7"
      },
      "source": [
        "class Tile_Impl:\r\n",
        "  def __init__(self, id_num):\r\n",
        "    self.id = id_num\r\n",
        "    self.top = 0\r\n",
        "    self.bottom = 0\r\n",
        "    self.left = 0\r\n",
        "    self.right = 0"
      ],
      "execution_count": null,
      "outputs": []
    },
    {
      "cell_type": "code",
      "metadata": {
        "colab": {
          "base_uri": "https://localhost:8080/"
        },
        "id": "dpX1KShK5Cqy",
        "outputId": "92c6ce99-ada4-412d-cc90-b4dc9b8885b8"
      },
      "source": [
        "### PART 2 ### \r\n",
        "print(tiles_pattern[corners[2]])\r\n",
        "print(tiles_pattern[edge_dictionary[corners[2]].bottom])\r\n",
        "print(tiles_pattern)"
      ],
      "execution_count": null,
      "outputs": [
        {
          "output_type": "stream",
          "text": [
            "['..#....###', '#..#.#..#.', '.....#...#', '....#.#...', '..#.#....#', '..#.##...#', '..#..#...#', '.##....#..', '..#....###', '#.##.##.#.']\n",
            "['#.##.##.#.', '...#...#.#', '......#.#.', '#..#......', '#.#..#.#..', '......##.#', '#......#..', '.#.....#..', '###...#..#', '#.#..##..#']\n",
            "{2957: ['#..##.#.#.', '...#......', '.#....#...', '....#.#...', '#.......#.', '#........#', '.....#..#.', '.....##.##', '#......#..', '###...####'], 3499: ['#.#.#..###', '##.#...#.#', '..###...##', '...##...#.', '...##..###', '####..#...', '#.#...#..#', '##....#...', '#..#...#..', '.####.###.'], 3583: ['.#######.#', '.....##...', '#........#', '####..#.#.', '..#...#...', '.#.##..#..', '.#.#..###.', '.........#', '...#...#.#', '.#.#.##.#.'], 2309: ['.######...', '.#..#....#', '#...##....', '#.#....##.', '....#....#', '.##...##.#', '###.......', '###..#...#', '#...#.#.##', '.##.###..#'], 1297: ['#..#.####.', '.#.#....##', '..#....#.#', '........##', '.#....##.#', '....#..#.#', '.#...#...#', '.....#.#.#', '#...###...', '##..#.####'], 3779: ['#...#..##.', '.....###.#', '#.##..##..', '.####...#.', '#.....#...', '#..###.#..', '#....#.###', '#......#.#', '..#.##.#..', '.###.....#'], 1471: ['#.##.....#', '...#.##...', '....#.####', '#.#.....#.', '..#.#...#.', '#.#...#..#', '.#.......#', '...#..##.#', '##...###..', '.######.#.'], 3803: ['##..###..#', '#..#......', '#.#.#....#', '.#..##..##', '...#.#.#.#', '...##.#...', '........##', '........#.', '.......###', '#.#.####.#'], 2473: ['#.#####.#.', '##.......#', '#.##...##.', '..#....#.#', '#.#...#.##', '......#.##', '#..#......', '#.#...#.#.', '#...###...', '#...#.##..'], 1193: ['#..##...#.', '....#.#..#', '...#....#.', '.#........', '#.#....#.#', '#...#.....', '.###...#.#', '#..#..#.#.', '#.##....#.', '#.##.###.#'], 1879: ['#..#..##.#', '##....#...', '...##....#', '#.##..#.#.', '#..#.#.#..', '#.###.....', '#.##......', '#..#......', '.......#.#', '.##..##..#'], 1049: ['######.#..', '#.#...#...', '#.#.....#.', '###.###..#', '###...#..#', '##.##..#..', '#......#..', '...##..#..', '.###......', '#.#...####'], 2917: ['#..##.###.', '........##', '#..#.#.#..', '#..#......', '.......#..', '#.#.#..#..', '##....#.#.', '......#.#.', '##...#####', '##.##..#.#'], 1619: ['.#####.#.#', '.....##...', '##.#......', '..##..#.#.', '.#.......#', '#.##......', '#####.....', '#...#.###.', '..#....#.#', '#..#.#..##'], 1663: ['#.###.##..', '####..##.#', '..##...#..', '.###...##.', '.#.##.....', '........##', '#.#..#..#.', '#..#..##..', '#.###..#..', '##..##.###'], 3571: ['..#.##.###', '.##..#..##', '#...#...#.', '#.##.###.#', '......#..#', '#..####.##', '#.##...###', '.#.#.#...#', '....#....#', '##.....##.'], 2969: ['#..#...#.#', '.#...#..##', '##..#..###', '#.....##..', '......#...', '...#.....#', '#.......#.', '#..#..##..', '#.#.##.###', '#..###...#'], 2657: ['.###.##.#.', '#.#.....##', '##....#.##', '.#.#..##..', '##..#.##.#', '#.....#.##', '#..##..#..', '#.........', '#.##.#..#.', '..#..#.#.#'], 1693: ['.###.#.##.', '###....#..', '##.#..##.#', '#.....##.#', '.#.##.#..#', '...#.#....', '#.....#...', '#....##...', '##.###....', '#.#.#..#.#'], 3257: ['.####.#...', '##..##.###', '#.........', '.......##.', '......#..#', '###.....#.', '....#####.', '#####...#.', '###....#..', '#.#.#.##.#'], 2707: ['..#...##.#', '.#.....#..', '#...#...#.', '##...#.##.', '.##.......', '#.##......', '.##.....#.', '##........', '...##..#..', '.#.##.###.'], 1723: ['#..##.##.#', '#.#.....#.', '...#.##...', '#.....##.#', '...#......', '.#.#....##', '#..#..#.##', '..#......#', '.##...#...', '##...#.#.#'], 2333: ['#..#.#####', '##.#..##.#', '#........#', '...#.#..##', '....#....#', '.####...##', '##...#..##', '##...#....', '#.....#..#', '#.#..#...#'], 2909: ['##.#....##', '#.#..####.', '.#.##.....', '#.#...#...', '..#..#..#.', '.....#....', '#...#.####', '#.....#..#', '#.##..#..#', '#####.#.#.'], 1637: ['##.##...#.', '.#.#..#...', '...#.##.#.', '#...#..#..', '.###.##..#', '.#......#.', '........#.', '.........#', '#.......#.', '..#...#.#.'], 2129: ['.#....#.#.', '......##.#', '....#..#..', '#.#......#', '.#.......#', '..#....#.#', '#..#......', '#..#..#.##', '#.#.#.#.##', '#.###.#..#'], 3083: ['#####.#.#.', '#..#.....#', '#......#..', '.#...###.#', '#.####..##', '#####....#', '#..##.....', '.......#.#', '#........#', '#.....#.#.'], 3929: ['##..##...#', '#..#..#...', '..##...#.#', '#......##.', '..#.#...##', '..........', '...#...##.', '##......##', '#..#...#..', '#.#.#.##.#'], 2239: ['...#.#..##', '.....##...', '#..#.....#', '..#.##...#', '#.#....##.', '#.##......', '.##......#', '.......#..', '..#.#..#.#', '#....#..##'], 3793: ['###...##.#', '...##.#..#', '.....##.#.', '..........', '.##.....#.', '.......#.#', '##...#...#', '##....#..#', '###...#...', '#######..#'], 3581: ['##..###.#.', '#........#', '.#...#...#', '.#.#...##.', '#....#....', '........##', '.#..##.#..', '.#..#.#.#.', '....#.#..#', '#.##.####.'], 1553: ['#...##.#..', '##......#.', '##...#.##.', '.#..#.####', '#...##.#.#', '...##..###', '......##..', '#.##.#..##', '...##..##.', '#..#..##..'], 2203: ['.#....###.', '..#.#....#', '..#..#...#', '#..##..#.#', '#.......##', '....#.....', '#.#......#', '...#....##', '#..###..##', '..#..#....'], 1847: ['..####....', '###.......', '#..#..#...', '..#....###', '#....#...#', '#.#.#....#', '.....##...', '....#.#..#', '##.#...#.#', '..#..####.'], 1367: ['.##..#..#.', '##......#.', '##.#...#..', '........##', '..#..###.#', '#...#.....', '....#..#.#', '..#..#..##', '..####..#.', '##....##.#'], 2633: ['#.##...###', '###....###', '#...##.###', '##........', '#..##.....', '#.##.##...', '.#.##.#..#', '#.##....#.', '.........#', '#####.##..'], 1697: ['#.####.###', '.#.###..#.', '##....#.#.', '#..#......', '.#..#.....', '#..####...', '##...#....', '....#..##.', '..#..#.#..', '######..#.'], 1571: ['.#####...#', '#.....#...', '#..#.....#', '..#.#..#.#', '.####...##', '...#.#.###', '#....#...#', '#..#.....#', '.........#', '....###.##'], 3889: ['...#..#..#', '......####', '#.#.##...#', '....#.....', '##.#...#..', '..#....#.#', '..#.#....#', '.###.#..#.', '..#.####..', '...#..####'], 1039: ['...#......', '#...#.....', '##........', '#...#...##', '..#.....#.', '.##......#', '.....##..#', '..#..####.', '#........#', '.#..###.##'], 2339: ['#..##.##..', '..#...#..#', '#.....#..#', '..#.##.#..', '###......#', '##..#.#..#', '....#..#.#', '#....#...#', '#....#.#..', '####.#####'], 1583: ['.###.##.##', '.....#..##', '..###.#...', '..##...#.#', '..#....#.#', '#....##..#', '........##', '#...##.#.#', '...#.#..#.', '.#.....#.#'], 3881: ['.#..####.#', '..#..#...#', '..#...##..', '#.........', '.....#.#..', '..#.....#.', '#.##......', '...##...#.', '..#....#..', '#...#.###.'], 1123: ['.####.#.#.', '##....#.#.', '#..#.###.#', '.####.###.', '..##......', '##.#......', '.#..##....', '#...####..', '.#..#.#..#', '..##.#.#..'], 2243: ['..#...#...', '......#.##', '..........', '.#.#..#..#', '#.#....##.', '...#...##.', '##..#.....', '..##.##..#', '#.#.....#.', '##...#.##.'], 2063: ['#.....#..#', '.#.#.#....', '#....##..#', '#..##...#.', '###.....#.', '..#....#..', '#..#...#.#', '.........#', '...#......', '.#...#..##'], 1621: ['..#.##.#.#', '##...#..##', '..#..##..#', '....#.....', '......###.', '#.#......#', '..#.#...##', '#.......##', '#......#.#', '.#..#...#.'], 3331: ['#..####...', '..#..##.##', '..###.....', '..#..#....', '...#..#...', '#.#.#....#', '#....###..', '.###.#..#.', '#....#...#', '..##.##.#.'], 1259: ['###.####..', '#.....##..', '#...#....#', '....##..#.', '##.#.##..#', '#.......##', '.....#...#', '......##..', '#.#...#.##', '.##......#'], 3407: ['....##.#.#', '#.#....#..', '#....##...', '...##.#..#', '####....##', '.#....#..#', '#..#..##..', '#####..###', '##....#...', '..#.#..###'], 1033: ['..#......#', '#....#.#..', '#.#.#.###.', '#.#.##.#.#', '.#.#..##..', '...##...##', '#####.....', '...#...##.', '####....##', '##..##.###'], 3089: ['.#...##..#', '.........#', '#.#.....##', '....####.#', '.....#..#.', '.##.##..##', '#.....#..#', '#..#......', '#.#.#...##', '#.#...##..'], 2297: ['#.#.#.####', '##..#.....', '#...#.....', '..........', '.....#....', '..#.#...#.', '.....#.#.#', '......##.#', '#..#...###', '.......#.#'], 3259: ['.####.....', '.##.#..#..', '#........#', '.#.##..#.#', '#.###.#.#.', '#.#....##.', '#........#', '#.....#.#.', '#.......##', '#.#.......'], 3457: ['#.####..#.', '##......##', '#....##.#.', '#.......#.', '######....', '.....#.##.', '..#..#....', '#..#####.#', '#..#...#..', '.#.##...##'], 1423: ['##.#.#.###', '.........#', '..####.##.', '#......#..', '...#.#....', '#.#..##...', '#.....#.##', '.##..#####', '#####.#.#.', '.######.##'], 2741: ['.#..#..#.#', '....##..#.', '#..#..####', '#...#...##', '#...##.#..', '#...#..##.', '##........', '#..#####..', '..##.....#', '##..###.#.'], 3187: ['####.#...#', '.......#..', '#........#', '#..##..#..', '.##.#...#.', '..#.###...', '#..##....#', '....#.##.#', '#........#', '.###..##..'], 1117: ['###.#.#.##', '.#.....###', '#....#...#', '.#.......#', '##..##..##', '##.##...#.', '##.#.#...#', '#..####..#', '..#..#...#', '.#.###.##.'], 3271: ['.....#..#.', '......##..', '.###.#.#.#', '##..#....#', '#.#...##..', '.........#', '.#...#....', '.#..#.##.#', '..........', '.#.#....##'], 3067: ['..#.###.#.', '..##...#.#', '..#...#.##', '#.......#.', '#..#.#..##', '..##..#.#.', '.....#.#..', '#.........', '#.#......#', '.##.#.##..'], 1429: ['..#.##.#.#', '..........', '.#.##.#.#.', '##...###..', '##.#...#.#', '#.....#.#.', '##........', '##...#...#', '.....##..#', '##.#.###.#'], 1801: ['#......###', '#.........', '#...#.....', '#........#', '#......#..', '#.......#.', '#..#......', '..#.#..###', '........##', '..#..#...#'], 3853: ['###...#.##', '#...#..#..', '....#...#.', '#.#....#.#', '......#...', '#...##.###', '.#.#.#...#', '#..##.#.##', '....##...#', '#...####.#'], 3109: ['..#...##.#', '#.#..##.#.', '#.##.##..#', '..#.##...#', '.....#..##', '###.#..###', '.##.#.#.#.', '...#.#.##.', '#..##..#.#', '#.##..####'], 1301: ['.##..#.###', '##..#...##', '#...#..#..', '..#.#....#', '..#....#..', '#.#.#.#..#', '#.#....#..', '.........#', '.....#..#.', '#..#.##.##'], 2017: ['....##.###', '#........#', '##........', '...#...#.#', '.......###', '.###...###', '......##..', '.#.##.....', '.#....####', '#.....#..#'], 2621: ['...#.#.###', '###..#.###', '..#.#.#.##', '.......#..', '.#.......#', '#.#....###', '#...#...#.', '.#.#..#...', '#.#...##..', '####..#..#'], 3697: ['...##..##.', '..#......#', '##..#.#...', '#....###..', '..#.#..#..', '##.#.##..#', '.#.#.....#', '#..#.....#', '##......#.', '##...###.#'], 2711: ['##..###...', '#....#.#..', '##..##.#..', '#...#...##', '#..#..#...', '.#....#..#', '##.#..#...', '#.##.....#', '..........', '#.###..#.#'], 3533: ['...#..#.##', '..#.#....#', '##.#.#....', '.#.#.#...#', '.....#..##', '##....###.', '##.##....#', '.##...#..#', '....##.#.#', '#.#..#####'], 1907: ['#.######..', '#.......#.', '......####', '#.#.#.##.#', '..........', '......#.##', '#.#..#...#', '#...#..###', '...##.....', '##...#.##.'], 2213: ['####.###.#', '##........', '#.....#...', '..#....#..', '.....#...#', '....##....', '...#.#..##', '....#.#..#', '##.....##.', '#....##.##'], 1229: ['.#.#.##..#', '....##...#', '......#..#', '.#.......#', '..#.#.....', '#....#....', '#.##.....#', '.##......#', '##.#..#..#', '#..#..#.#.'], 3797: ['#..##.####', '.##..###..', '#.........', '.......##.', '.##..#....', '#.#.##...#', '#....#...#', '#.........', '..#...#..#', '##.#...##.'], 1087: ['##..######', '.#..#...##', '##.##.#.#.', '....#.....', '..........', '..####.###', '##.###.#..', '....#...#.', '#......#.#', '#.####.#.#'], 2687: ['......#...', '.#.#...#.#', '#..#.#...#', '#...#.#.##', '.#....##.#', '##....#...', '#.#....#..', '##...#....', '#........#', '##.##.####'], 1051: ['#.#####..#', '#.#...#..#', '#...#..#.#', '.#.##..#.#', '......##..', '#...##....', '........#.', '##.......#', '#......#..', '.#...###.#'], 3739: ['##.#.####.', '#...###...', '.###...#..', '###.......', '.........#', '#....#..#.', '.....#...#', '..#......#', '....#.....', '#####.#.##'], 2087: ['...#####.#', '.##.#....#', '#...#..##.', '#.##.....#', '......#...', '#.#.#..#..', '..##..#.#.', '#..#...###', '##.....#..', '.##.#..###'], 2683: ['..#.....#.', '..#.#.#..#', '##.......#', '.#..#...#.', '#..#.#...#', '#...######', '#...##.#..', '##..##....', '#....#.#..', '.#####.###'], 2137: ['###.#....#', '.....#..##', '..........', '..##...#..', '.#..##..##', '#..##..#..', '##..#.....', '...#.....#', '.#...##...', '##....####'], 1031: ['#######...', '#......#..', '...###.##.', '.#...#.#.#', '##..#.#..#', '.#.......#', '.#........', '.......#..', '##..#.##.#', '#.##..##..'], 2887: ['.....##.##', '.....#..##', '.##.....##', '...#.#.#.#', '#...#....#', '#......##.', '.........#', '.#..##..##', '#.#...#.##', '##...##.##'], 2729: ['####.#..##', '#...##..#.', '#...##.##.', '...#.....#', '..#..#.#..', '.##..##..#', '.###.##...', '##........', '.##...##..', '#..##..#.#'], 3517: ['#.#..##.##', '#.......##', '..#.#..#..', '.#.....#..', '..#.##.##.', '#.#......#', '##.#......', '#.#.##..##', '#.#....#..', '###..##..#'], 3191: ['##...###..', '##...##...', '#..#...#.#', '##..####.#', '###...#..#', '..##...#..', '....##.##.', '##...##...', '#.###.##..', '.#..#....#'], 1381: ['#..#.#.#.#', '....#....#', '#.##..#..#', '#.##...##.', '.#..#.....', '#...#....#', '#.....#..#', '####..##..', '###.##.###', '#.....##.#'], 2111: ['.#.#.#..#.', '.....#.#..', '...#......', '##...##...', '##.#...#.#', '#.#..##..#', '.####....#', '...#####.#', '#.#.......', '#.#..###..'], 3541: ['####.###.#', '..#.....##', '#..#.#...#', '.#.##.##.#', '.#...#...#', '..........', '#.#..#.#..', '#.........', '#..#...##.', '.#########'], 1997: ['#####.#.##', '.#.#..#.##', '##..#.#.#.', '##.##..#.#', '##..#....#', '.#.##....#', '..........', '#.##...##.', '#.........', '#.#.##...#'], 1597: ['####.#.#.#', '##.....##.', '##...#.#..', '......#...', '.#....#..#', '.##...#...', '#....#....', '......#...', '#..#.#..#.', '...#.##.##'], 2347: ['##.#.....#', '#...#.#.##', '#..#......', '.#...#...#', '...#....#.', '#.#...#...', '#.......##', '#....#....', '#.........', '#.##.##.##'], 3767: ['##.#.#..##', '....##.#..', '#...###.#.', '#.#.#.....', '#......#..', '...##..###', '.#...##.#.', '......#...', '..#..##...', '.#.#.#..##'], 2003: ['...#####..', '#.#.#.#...', '#.#..#...#', '#.#..#####', '#...#..#..', '#.##.....#', '##...###.#', '#.......#.', '...#....##', '..#.###.#.'], 1523: ['#...##....', '...#....#.', '.##.##.###', '#......##.', '.........#', '...#.....#', '#.#....#..', '###.....##', '##...#..##', '...##.##.#'], 3079: ['...##....#', '.#..#.##.#', '#.##.#####', '#.#.......', '.#.......#', '...##.....', '#....#...#', '#...####.#', '#...###...', '#...#.#.##'], 1069: ['........##', '.#..###..#', '#...#.....', '#.........', '.......#..', '..#..###.#', '#..#..#..#', '...###.#.#', '..##...#..', '#.#.##....'], 2089: ['##...#..#.', '..#..##..#', '......#...', '.......#.#', '#.####....', '...#......', '#......#..', '#...###.#.', '...##..#.#', '##.##.###.'], 3863: ['##....#.##', '.##......#', '#........#', '....##..#.', '.......#.#', '##..##..##', '..##.....#', '.###.#....', '#.#.......', '..###..##.'], 2663: ['.#.#.##.##', '....#.....', '##.##...##', '..#.......', '##.#...#.#', '#....##..#', '#...#..###', '.....##...', '#........#', '#.###.#...'], 1019: ['..#....###', '#..#.#..#.', '.....#...#', '....#.#...', '..#.#....#', '..#.##...#', '..#..#...#', '.##....#..', '..#....###', '#.##.##.#.'], 3709: ['#..#....#.', '##.##.....', '#.......##', '.#.#...#.#', '.##.####.#', '#..#.###..', '#..#.#####', '#........#', '..........', '.##..###..'], 3023: ['##.###.#.#', '..###....#', '#...##...#', '#........#', '.#.#.....#', '#.....#..#', '..........', '#..#.#....', '#...#.#..#', '#..#####.#'], 3623: ['..#.#..#.#', '#.#.#....#', '......#...', '#...#....#', '#........#', '##..#.....', '#.##.....#', '..#.#.....', '..#......#', '#.##..#..#'], 2161: ['.######.#.', '.........#', '#..#.#...#', '.##.......', '.....#.#.#', '......#.##', '#.#####...', '##.#......', '#.##...#.#', '#.#.#####.'], 3037: ['##.....###', '...#......', '#.#.#..#..', '...#.#..#.', '.....#.#.#', '#...#...#.', '..#.#...##', '#....#####', '....#....#', '...##...##'], 2539: ['#.##..##..', '.##..#.###', '#.#####...', '.#...##...', '##.###...#', '#.........', '#.....####', '.#.#....##', '#.....#...', '##.#.####.'], 1361: ['#..###.###', '...#..#...', '.....#.#.#', '.......###', '#.#......#', '#.#...#..#', '###......#', '##.#....#.', '#...#.#..#', '#......#..'], 1873: ['...#.#..#.', '###......#', '#.#.#.####', '#........#', '#..#.#.#.#', '..#.....##', '#....#..#.', '...#......', '..........', '##....#..#'], 3701: ['.#..#.#...', '.#...#.#..', '####.#..##', '#.###...##', '#...###...', '#..#......', '.......##.', '#....#..#.', '##..###...', '.#.#.####.'], 3557: ['##.#####.#', '####.....#', '..##......', '###.##..#.', '#####.....', '......#.##', '....#.##.#', '....#.#...', '..##.#....', '##.##.#.##'], 2659: ['.#.#..#.##', '.#.....###', '##....#.#.', '#.##..#..#', '...##.....', '###.......', '#..#.....#', '##.#####.#', '..##.#..##', '#..####.##'], 2269: ['#.#.#.#.#.', '#..#.#...#', '##..#.#.#.', '#....#.#..', '#..#....##', '.##..##..#', '.#.#...#.#', '#...##..#.', '#......#.#', '##.#.#..##'], 3121: ['#...##..#.', '#.#.....#.', '..#......#', '.##..#..##', '##....##..', '##..#..#..', '#........#', '.###.####.', '##.....#.#', '#.#...#..#'], 2939: ['..##.#.###', '...##....#', '#.#...#.##', '##..##...#', '#..####..#', '#....#...#', '#.#.......', '#.#...#..#', '#.......#.', '...#..#.##'], 3967: ['.#.....##.', '#.#.#.....', '..#####..#', '..##.#..##', '.#...#....', '#.....#...', '....#.#...', '...##.#..#', '...##..#..', '##...#...#'], 2113: ['#..##.###.', '........#.', '###..###.#', '.......#..', '#..##.#.#.', '..##...#..', '###.....##', '....#...#.', '##..##.#..', '...##.#.#.'], 1871: ['..#..#####', '.#..#.##.#', '.....#..#.', '##.#....#.', '.##....#..', '#....#..#.', '...#......', '.#..#.....', '#..#.....#', '##.#.#....'], 2531: ['..#.#..##.', '#.....#..#', '#.#.......', '...##.##.#', '.##..#.#..', '#...##...#', '......##.#', '..#.......', '#.#.....##', '##.#..##..'], 2543: ['#.#..#..##', '##.##.#...', '...#.##...', '#.#......#', '.#.#...#.#', '..##.#...#', '###.#...##', '#.##..#..#', '#.##...#..', '.#.###....'], 3041: ['.###......', '.........#', '#..##.....', '##.#....##', '###..#.###', '...#.##.#.', '.##...##.#', '#...#....#', '###...##.#', '####..#..#'], 1559: ['##..##....', '#.##....#.', '.#.#......', '..........', '#...#.#...', '#.##....##', '.#........', '#.....#.##', '#.......#.', '....#..#.#'], 2617: ['#.##.##.#.', '...#...#.#', '......#.#.', '#..#......', '#.#..#.#..', '......##.#', '#......#..', '.#.....#..', '###...#..#', '#.#..##..#'], 1861: ['..#.#..###', '##.....#..', '..#.....#.', '#.........', '.####...##', '...#..##.#', '#...#####.', '....#.##..', '.##..#..#.', '#.####.##.'], 1747: ['##...#..#.', '#....#...#', '##...#.###', '#...#.....', '#.##.#..##', '...#......', '.....#..#.', '...#.##...', '.#..###...', '#...###..#'], 2579: ['##.###.###', '..#.#..#.#', '.##..#.#..', '##..#.####', '##..#..###', '...#.#...#', '#..#.....#', '.##.#...#.', '.#...##...', '#....##..#'], 3761: ['.#.###.###', '#....#....', '#.#.....##', '.###...#.#', '###...##.#', '.###.....#', '...#...#..', '.....#.#.#', '.#.##.#..#', '##..####.#'], 3463: ['######..#.', '.#..##...#', '...##...##', '.#...##.#.', '.#.#...#.#', '.........#', '#........#', '..##...#.#', '#...#....#', '#.###.....'], 2521: ['###.##....', '###.##.#..', '#..##.....', '..#...#..#', '.#.#.....#', '##...#...#', '..#......#', '..#..##..#', '#........#', '#########.'], 2647: ['####.#.##.', '#..#.#...#', '#.......#.', '.........#', '#.####....', '#.#..#..#.', '#........#', '#.#......#', '##..#..#..', '...##.....'], 3847: ['.....#..#.', '#.....###.', '##......##', '###.....##', '#....#.#..', '#.##.##...', '.#..#.##..', '#...#.####', '.........#', '.##.####..'], 2027: ['.##...#.##', '...#..##..', '#...#.###.', '#......###', '#.......#.', '#....###.#', '#.#.##....', '.........#', '.......#..', '..#..##..#'], 3347: ['.###.#...#', '....##...#', '#...##...#', '.#.#.#...#', '#.#.#..#.#', '#.#..#.##.', '##..#.....', '..#..#.#..', '.#......##', '..#..#####'], 3911: ['###....#.#', '....##.##.', '#.#.#....#', '...#.....#', '...##..#..', '..###.#.#.', '....#.....', '#..##....#', '#.##.#.#..', '.#..##...#'], 1741: ['####.##...', '...##...#.', '...#......', '#...##..#.', '..#...#..#', '#.........', '.#...#....', '#..#.#..##', '#.........', '#...#..#.#'], 3137: ['.#....#.##', '#......#..', '#.#...#...', '##....#...', '#.#.#.#..#', '....#....#', '..##.....#', '##.......#', '........##', '..#..###.#'], 2417: ['##...##..#', '##.....#.#', '....##....', '.#...#...#', '....##.###', '#...#..#.#', '#....#...#', '..#...#..#', '#..#...#..', '...#.####.'], 2803: ['#.###..###', '#....#...#', '#.#.......', '#..##.....', '.#....#...', '.#...#....', '#.#..#...#', '#.##.##...', '.#.##.####', '.####.....'], 2267: ['.#.#.#..##', '..#.#....#', '#...#....#', '...#..###.', '...##.....', '#.#.......', '.#...#....', '##..#.#.#.', '.#..##.#.#', '####.#.##.'], 1613: ['..##.#.#.#', '.......##.', '......####', '......##..', '##.#.....#', '#.......##', '#...#..#..', '.......#..', '#......#..', '#.#.#....#'], 2777: ['.####.##.#', '#..#.....#', '##.###.###', '###.#.....', '.##..#...#', '.#.#...#..', '#.........', '...#...###', '...#....#.', '#.#.###..#'], 3923: ['#####..#.#', '....#.#..#', '#.#..#..##', '...##.....', '#.#.......', '.........#', '..#.####.#', '#.#..####.', '#####..#.#', '#.##.###.#'], 3919: ['...###.###', '##.#.....#', '#.........', '##....##.#', '.#.....#..', '.....#....', '...####..#', '..#.##.#..', '....#....#', '.##.....#.']}\n"
          ],
          "name": "stdout"
        }
      ]
    },
    {
      "cell_type": "markdown",
      "metadata": {
        "id": "CpN-KP9SmOtP"
      },
      "source": [
        "Day 21"
      ]
    },
    {
      "cell_type": "code",
      "metadata": {
        "colab": {
          "base_uri": "https://localhost:8080/"
        },
        "id": "YMI-645cmQSN",
        "outputId": "f45b836f-425a-4e0e-eca3-e1678535d63d"
      },
      "source": [
        "### PART 1 ### \r\n",
        "input = open(\"InputDay21.txt\")\r\n",
        "data = [value for value in input.read().splitlines()]\r\n",
        "\r\n",
        "ingredients_count_dict = {}\r\n",
        "possible_allergens = {}\r\n",
        "for food in data:\r\n",
        "  start = food.index(\"(\") + len(\"contains\") + 1\r\n",
        "  end = food.index(\")\")\r\n",
        "  foods_list = set(food[:food.index(\"(\")-1].split(\" \"))\r\n",
        "  \r\n",
        "  allergens = food[start:end]\r\n",
        "  allergens_list = allergens.replace(\" \",\"\").split(\",\")\r\n",
        "  for ingredient in foods_list:\r\n",
        "    ingredients_count_dict[ingredient] = ingredients_count_dict.get(ingredient, 0) + 1\r\n",
        "  for a in allergens_list:\r\n",
        "    if a in possible_allergens:\r\n",
        "        possible_allergens[a] &= foods_list\r\n",
        "    else:\r\n",
        "        possible_allergens[a] = foods_list.copy()\r\n",
        "\r\n",
        "dangerous = {} ## Dictionary to store the allergen (key) and dangerous ingredients in the other language (value)\r\n",
        "while len(possible_allergens)>0:\r\n",
        "  allergen = [a for a, i in possible_allergens.items() if len(i) == 1][0] ## Get items one at a time, when there is only one possible ingredient for that allergen\r\n",
        "  ingredient = possible_allergens.pop(allergen)\r\n",
        "  for a,i in possible_allergens.items():\r\n",
        "    i -= i & ingredient ## Remove that ingredient from any other possible allergens\r\n",
        "  dangerous[allergen] = ingredient.pop()\r\n",
        "\r\n",
        "ingredients_to_avoid = dangerous.values()\r\n",
        "print(sum([count for ingr,count in ingredients_count_dict.items() if ingr not in ingredients_to_avoid])) ## sum a list of the number of counts for each item that is not an ingredient\r\n"
      ],
      "execution_count": null,
      "outputs": [
        {
          "output_type": "stream",
          "text": [
            "2635\n"
          ],
          "name": "stdout"
        }
      ]
    },
    {
      "cell_type": "code",
      "metadata": {
        "colab": {
          "base_uri": "https://localhost:8080/"
        },
        "id": "JeC0AEG7zzBw",
        "outputId": "26f686a5-5393-48c6-c58e-46afe5517d0e"
      },
      "source": [
        "### PART 2 ### \r\n",
        "sorted_allergens = sorted(dangerous)\r\n",
        "canonical_danger_str = \"\"\r\n",
        "for allergen in sorted_allergens:\r\n",
        "  canonical_danger_str += dangerous[allergen] +\",\"\r\n",
        "canonical_danger_str = canonical_danger_str[:len(canonical_danger_str)-1] ## get rid of last comma\r\n",
        "print (canonical_danger_str)\r\n"
      ],
      "execution_count": null,
      "outputs": [
        {
          "output_type": "stream",
          "text": [
            "xncgqbcp,frkmp,qhqs,qnhjhn,dhsnxr,rzrktx,ntflq,lgnhmx\n"
          ],
          "name": "stdout"
        }
      ]
    },
    {
      "cell_type": "markdown",
      "metadata": {
        "id": "TRuL3gx8v9wQ"
      },
      "source": [
        "Day 22"
      ]
    },
    {
      "cell_type": "code",
      "metadata": {
        "colab": {
          "base_uri": "https://localhost:8080/"
        },
        "id": "u8_pI-8owANz",
        "outputId": "9ee1c677-9747-4da2-e469-b69dace8f85f"
      },
      "source": [
        "### PART 1 ### \r\n",
        "input = open(\"InputDay22.txt\")\r\n",
        "data = [value for value in input.read().split(\"\\n\\n\")]\r\n",
        "player_1 = data[0][10:].split(\"\\n\")\r\n",
        "player_2 = data[1][10:len(data[1])-1].split(\"\\n\")\r\n",
        "\r\n",
        "## convert to ints\r\n",
        "player_1 = [int(num_str) for num_str in player_1]\r\n",
        "player_2 = [int(num_str) for num_str in player_2]\r\n",
        "\r\n",
        "\r\n",
        "while len(player_1)>0 and len(player_2) > 0:\r\n",
        "  \r\n",
        "  player_1_top_card = player_1.pop(0)\r\n",
        "  player_2_top_card = player_2.pop(0)\r\n",
        "  #print(\"Player 1 plays: \" + str(player_1_top_card))\r\n",
        "  #print(\"Player 2 plays: \" + str(player_2_top_card))\r\n",
        "  if (player_1_top_card>player_2_top_card):\r\n",
        "    #print(\"Player 1 Wins\")\r\n",
        "    player_1.append(player_1_top_card)\r\n",
        "    player_1.append(player_2_top_card)\r\n",
        "  elif (player_1_top_card<player_2_top_card):\r\n",
        "    #print(\"Player 2 Wins\")\r\n",
        "    player_2.append(player_2_top_card)\r\n",
        "    player_2.append(player_1_top_card)\r\n",
        "  \r\n",
        "  # print(player_1)\r\n",
        "  # print(player_2)\r\n",
        "  # print(\"--------------NEXT ROUND----------------\")\r\n",
        "\r\n",
        "\r\n",
        "## Find multiple score for the winning player \r\n",
        "def calcScore(deck):\r\n",
        "  multiple = len(deck)\r\n",
        "  score = 0\r\n",
        "  for card in deck:\r\n",
        "    score += (multiple*card)\r\n",
        "    multiple -= 1\r\n",
        "  return score\r\n",
        "\r\n",
        "if (len(player_1)==0):\r\n",
        "  ## Player 2 won\r\n",
        "  print(\"Player 2 Won: \" + str(calcScore(player_2)))\r\n",
        "else:\r\n",
        "  ## Player 1 won\r\n",
        "  print(\"Player 1 Won: \" + str(calcScore(player_1)))"
      ],
      "execution_count": null,
      "outputs": [
        {
          "output_type": "stream",
          "text": [
            "Player 1 Won: 31308\n"
          ],
          "name": "stdout"
        }
      ]
    },
    {
      "cell_type": "code",
      "metadata": {
        "colab": {
          "base_uri": "https://localhost:8080/"
        },
        "id": "V7dIa81nG2Bf",
        "outputId": "bd75f8a5-b0dd-4987-cd65-9c904455d3d8"
      },
      "source": [
        "### PART 2 ### \r\n",
        "input = open(\"InputDay22.txt\")\r\n",
        "data = [value for value in input.read().split(\"\\n\\n\")]\r\n",
        "player_1 = data[0][10:].split(\"\\n\")\r\n",
        "player_2 = data[1][10:len(data[1])-1].split(\"\\n\")\r\n",
        "\r\n",
        "## convert to ints\r\n",
        "player_1 = [int(num_str) for num_str in player_1]\r\n",
        "player_2 = [int(num_str) for num_str in player_2]\r\n",
        "\r\n",
        "\r\n",
        "def is_previous_deck(curr_deck,prev_decks):\r\n",
        "  \r\n",
        "  if (len(prev_decks)==0):\r\n",
        "    return False\r\n",
        "  for prev_deck in prev_decks:\r\n",
        "    #print(prev_decks)\r\n",
        "    if (len(prev_deck)==len(curr_deck)):\r\n",
        "      is_same = True\r\n",
        "      for x in range(len(prev_deck)):\r\n",
        "        if (prev_deck[x]==curr_deck[x]):\r\n",
        "          continue\r\n",
        "        else:\r\n",
        "          is_same = False\r\n",
        "      if is_same:\r\n",
        "        return True\r\n",
        "\r\n",
        "  return False\r\n",
        "\r\n",
        "def recursive_combat_game(player_1,player_2,player_1_prevs,player_2_prevs):\r\n",
        "  #print(\"New GAME\")\r\n",
        "  while len(player_1)>0 and len(player_2) > 0:\r\n",
        "    #print(\"New Round\")\r\n",
        "    #print(\"Player 1's deck: \" + str(player_1))\r\n",
        "    #print(\"Player 2's deck: \" + str(player_2))\r\n",
        "    if is_previous_deck(player_1,player_1_prevs) or is_previous_deck(player_2,player_2_prevs):\r\n",
        "      #print(\"repeat, player 1 wins\")\r\n",
        "      return 1 \r\n",
        "    \r\n",
        "    player_1_prevs.append([val for val in player_1])\r\n",
        "    player_2_prevs.append([val for val in player_2])\r\n",
        "\r\n",
        "    player_1_top_card = player_1.pop(0)\r\n",
        "    player_2_top_card = player_2.pop(0)\r\n",
        "    #print(\"Player 1 plays: \" + str(player_1_top_card))\r\n",
        "    #print(\"Player 2 plays: \" + str(player_2_top_card))\r\n",
        "\r\n",
        "    winner = 0\r\n",
        "    # print(\"player 1 len:\" + str(len(player_1)))\r\n",
        "    # print(\"player 2 len:\" + str(len(player_2)))\r\n",
        "    if (len(player_1)>=player_1_top_card) and (len(player_2)>=player_2_top_card):  \r\n",
        "      ## Play a recursive game\r\n",
        "      #print(\"playing a subgame\")\r\n",
        "      winner = recursive_combat_game(player_1[:player_1_top_card],player_2[:player_2_top_card],[],[])\r\n",
        "      if winner == 1:\r\n",
        "        #print(\"player 1 won the subgame\")\r\n",
        "        player_1.append(player_1_top_card)\r\n",
        "        player_1.append(player_2_top_card)\r\n",
        "      elif winner == 2:\r\n",
        "        #print(\"player 2 won the subgame\")\r\n",
        "        player_2.append(player_2_top_card)\r\n",
        "        player_2.append(player_1_top_card)\r\n",
        "    else:\r\n",
        "      ## Play the round with the normal rules\r\n",
        "      if (player_1_top_card>player_2_top_card):\r\n",
        "        #print(\"Player 1 Wins by higher card\")\r\n",
        "        player_1.append(player_1_top_card)\r\n",
        "        player_1.append(player_2_top_card)\r\n",
        "      elif (player_1_top_card<player_2_top_card):\r\n",
        "        #print(\"Player 2 Wins by higher card\")\r\n",
        "        player_2.append(player_2_top_card)\r\n",
        "        player_2.append(player_1_top_card)\r\n",
        "  ## Determine winner of finished game\r\n",
        "  if (len(player_1)==0):\r\n",
        "    ## Player 2 won\r\n",
        "    return 2\r\n",
        "  else:\r\n",
        "    ## Player 1 won\r\n",
        "    return 1\r\n",
        "\r\n",
        "\r\n",
        "recursive_combat_game(player_1,player_2,[],[])\r\n",
        "#print(player_1)\r\n",
        "#print(player_2)\r\n",
        "## Find multiple score for the winning player \r\n",
        "def calcScore(deck):\r\n",
        "  multiple = len(deck)\r\n",
        "  score = 0\r\n",
        "  for card in deck:\r\n",
        "    score += (multiple*card)\r\n",
        "    multiple -= 1\r\n",
        "  return score\r\n",
        "\r\n",
        "if (len(player_1)==0):\r\n",
        "  ## Player 2 won\r\n",
        "  print(\"Player 2 Won: \" + str(calcScore(player_2)))\r\n",
        "else:\r\n",
        "  ## Player 1 won\r\n",
        "  print(\"Player 1 Won: \" + str(calcScore(player_1)))"
      ],
      "execution_count": null,
      "outputs": [
        {
          "output_type": "stream",
          "text": [
            "Player 1 Won: 33647\n"
          ],
          "name": "stdout"
        }
      ]
    },
    {
      "cell_type": "markdown",
      "metadata": {
        "id": "U3MUP0jpBYbO"
      },
      "source": [
        "Day 23"
      ]
    },
    {
      "cell_type": "code",
      "metadata": {
        "colab": {
          "base_uri": "https://localhost:8080/"
        },
        "id": "aWX4JFdBBXQO",
        "outputId": "173e3481-b2a9-4a3c-d479-ae058d941d75"
      },
      "source": [
        "### PART 1 ### \r\n",
        "input = [9,1,6,4,3,8,2,7,5]\r\n",
        "\r\n",
        "def findDestinationCup(curr_value,remaining):\r\n",
        "  destination = 0\r\n",
        "  looking_for = curr_value - 1\r\n",
        "  while destination == 0:\r\n",
        "    for element in remaining:\r\n",
        "      if(element == looking_for):\r\n",
        "        destination = element\r\n",
        "    if (looking_for <= min(remaining)):\r\n",
        "      looking_for = max(remaining)\r\n",
        "    else:\r\n",
        "      looking_for -= 1\r\n",
        "  \r\n",
        "  return destination\r\n",
        "\r\n",
        "curr_index = 0\r\n",
        "for move in range(100):\r\n",
        "  # print(\"----MOVE \" + str(move+1) + \"----\")\r\n",
        "  curr_val = input[curr_index]\r\n",
        "  # print(\"Current val \" + str(input[curr_index]))\r\n",
        "  # print(input)\r\n",
        "  removed = input[curr_index+1:curr_index+4]\r\n",
        "  if (curr_index+4>=len(input)):\r\n",
        "    to_insert = input[0:curr_index+4-len(input)]\r\n",
        "    for i in to_insert:\r\n",
        "      removed.append(i)\r\n",
        "  # print(\"pick up \" + str(removed))\r\n",
        "  remaining_elements = [x for x in input if x not in removed]\r\n",
        "  destination_val = findDestinationCup(input[curr_index],remaining_elements)\r\n",
        "  # print(remaining_elements)\r\n",
        "  # print(\"destination val \" + str(destination_val))\r\n",
        "  destination_index = remaining_elements.index(destination_val)\r\n",
        "  # print(\"index: \" + str(destination_index))\r\n",
        "  remaining_elements[destination_index+1:destination_index+1] = removed\r\n",
        "  # print(remaining_elements)\r\n",
        "  # print(\" \")\r\n",
        "  input = remaining_elements\r\n",
        "  curr_index = input.index(curr_val)+1\r\n",
        "  if (curr_index>=len(input)):\r\n",
        "    curr_index = 0\r\n",
        "#print(input)\r\n",
        "\r\n",
        "## Print out string of numbers after 1 \r\n",
        "one_index = input.index(1)\r\n",
        "order_arr = input[one_index+1:] + input[:one_index]\r\n",
        "final_str = \"\"\r\n",
        "for i in order_arr:\r\n",
        "  final_str += str(i)\r\n",
        "\r\n",
        "print(\"Final \" + final_str)"
      ],
      "execution_count": null,
      "outputs": [
        {
          "output_type": "stream",
          "text": [
            "Final 39564287\n"
          ],
          "name": "stdout"
        }
      ]
    },
    {
      "cell_type": "code",
      "metadata": {
        "colab": {
          "base_uri": "https://localhost:8080/"
        },
        "id": "ITKlwTi1OxKw",
        "outputId": "157876a7-5e4c-4baa-cc08-78f13bd54f59"
      },
      "source": [
        "### PART 2 ### \r\n",
        "input = [9,1,6,4,3,8,2,7,5]\r\n",
        "for i in range(10,1000001):\r\n",
        "  input.append(i)\r\n",
        "\r\n",
        "def findDestinationCup(curr_value,remaining):\r\n",
        "  destination = 0\r\n",
        "  looking_for = curr_value - 1\r\n",
        "  while destination == 0:\r\n",
        "    for element in remaining:\r\n",
        "      if(element == looking_for):\r\n",
        "        destination = element\r\n",
        "    if (looking_for <= min(remaining)):\r\n",
        "      looking_for = max(remaining)\r\n",
        "    else:\r\n",
        "      looking_for -= 1\r\n",
        "  \r\n",
        "  return destination\r\n",
        "\r\n",
        "curr_index = 0\r\n",
        "for move in range(10000000):\r\n",
        "  if (move % 100 ==0):\r\n",
        "    print(move)\r\n",
        "  # print(\"----MOVE \" + str(move+1) + \"----\")\r\n",
        "  curr_val = input[curr_index]\r\n",
        "  # print(\"Current val \" + str(input[curr_index]))\r\n",
        "  # print(input)\r\n",
        "  removed = input[curr_index+1:curr_index+4]\r\n",
        "  if (curr_index+4>=len(input)):\r\n",
        "    to_insert = input[0:curr_index+4-len(input)]\r\n",
        "    for i in to_insert:\r\n",
        "      removed.append(i)\r\n",
        "  # print(\"pick up \" + str(removed))\r\n",
        "  remaining_elements = [x for x in input if x not in removed]\r\n",
        "  destination_val = findDestinationCup(input[curr_index],remaining_elements)\r\n",
        "  # print(remaining_elements)\r\n",
        "  # print(\"destination val \" + str(destination_val))\r\n",
        "  destination_index = remaining_elements.index(destination_val)\r\n",
        "  # print(\"index: \" + str(destination_index))\r\n",
        "  remaining_elements[destination_index+1:destination_index+1] = removed\r\n",
        "  # print(remaining_elements)\r\n",
        "  # print(\" \")\r\n",
        "  input = remaining_elements\r\n",
        "  curr_index = input.index(curr_val)+1\r\n",
        "  if (curr_index>=len(input)):\r\n",
        "    curr_index = 0\r\n",
        "#print(input)\r\n",
        "\r\n",
        "## Print out string of numbers after 1 \r\n",
        "one_index = input.index(1)\r\n",
        "first_cup = input[one_index+1]\r\n",
        "second_cup = input[one_index+2]\r\n",
        "\r\n",
        "print(\"Final \" + str((first_cup*second_cup)))"
      ],
      "execution_count": null,
      "outputs": [
        {
          "output_type": "stream",
          "text": [
            "404431096944\n"
          ],
          "name": "stdout"
        }
      ]
    },
    {
      "cell_type": "markdown",
      "metadata": {
        "id": "Zb3Hst7gLVj3"
      },
      "source": [
        "Day 24"
      ]
    },
    {
      "cell_type": "code",
      "metadata": {
        "colab": {
          "base_uri": "https://localhost:8080/"
        },
        "id": "5_IVdjQ4LW7m",
        "outputId": "1719b5a5-f142-45e6-f73e-5e834571b596"
      },
      "source": [
        "### PART 1 ### \r\n",
        "import re\r\n",
        "input = open(\"InputDay24.txt\")\r\n",
        "data = [value for value in input.read().splitlines()]\r\n",
        "\r\n",
        "tiles_dict = {}\r\n",
        "\r\n",
        "for tile in data:\r\n",
        "  pattern = r\"(e)|(w)|(se)|(ne)|(sw)|(nw)\"\r\n",
        "  directions = [l.group() for l in re.finditer(pattern, tile)]\r\n",
        "  #print(directions)\r\n",
        "  coord = [0,0]\r\n",
        "  for direction in directions:\r\n",
        "    if direction == \"se\":\r\n",
        "      coord = [coord[0],coord[1]-1]\r\n",
        "    elif direction == \"ne\":\r\n",
        "      coord = [coord[0]+1,coord[1]+1]\r\n",
        "    elif direction == \"sw\":\r\n",
        "      coord = [coord[0]-1,coord[1]-1]\r\n",
        "    elif direction == \"nw\":\r\n",
        "      coord = [coord[0],coord[1]+1]\r\n",
        "    elif direction == \"w\":\r\n",
        "      coord = [coord[0]-1,coord[1]]\r\n",
        "    elif direction == \"e\":\r\n",
        "      coord = [coord[0]+1,coord[1]]\r\n",
        "  \r\n",
        "  coord = tuple(coord)\r\n",
        "  if coord in tiles_dict.keys():\r\n",
        "    tiles_dict[coord] = not tiles_dict[coord]\r\n",
        "  else:\r\n",
        "    tiles_dict[coord] = True ## True means black, False means white\r\n",
        "\r\n",
        "\r\n",
        "black_tile_counter = 0\r\n",
        "for tile in tiles_dict:\r\n",
        "  if tiles_dict[tile]:\r\n",
        "    black_tile_counter += 1\r\n",
        "\r\n",
        "print(black_tile_counter)"
      ],
      "execution_count": null,
      "outputs": [
        {
          "output_type": "stream",
          "text": [
            "500\n"
          ],
          "name": "stdout"
        }
      ]
    },
    {
      "cell_type": "code",
      "metadata": {
        "colab": {
          "base_uri": "https://localhost:8080/"
        },
        "id": "BUuQJD0pbNGq",
        "outputId": "6878ecae-798d-47ba-925e-1a9cb617e191"
      },
      "source": [
        "### PART 2 ### \r\n",
        "import copy\r\n",
        "def count_adjacent(coord,t_dict):\r\n",
        "  adjacent_locations = [(-1,-1),(-1,0),(0,1),(1,1),(1,0),(0,-1)]\r\n",
        "  black_count = 0\r\n",
        "  for location in adjacent_locations:\r\n",
        "    adj = tuple(map(lambda x, y: x + y, coord, location))\r\n",
        "    if adj in t_dict.keys():\r\n",
        "      # check tile's color\r\n",
        "      if t_dict[adj]:\r\n",
        "        # if it is black\r\n",
        "        black_count+=1\r\n",
        "    \r\n",
        "  return black_count\r\n",
        "\r\n",
        "def add_adjacents(t_dict):\r\n",
        "  adjacent_locations = [(-1,-1),(-1,0),(0,1),(1,1),(1,0),(0,-1)]\r\n",
        "  t_dict_copy = copy.deepcopy(t_dict)\r\n",
        "  for coord in t_dict:\r\n",
        "    for location in adjacent_locations:\r\n",
        "      adj = tuple(map(lambda x, y: x + y, coord, location))\r\n",
        "      if adj not in t_dict_copy.keys():\r\n",
        "        t_dict_copy[adj] = False\r\n",
        "  return t_dict_copy\r\n",
        "\r\n",
        "\r\n",
        "for i in range(100):\r\n",
        "  tiles_dict = add_adjacents(tiles_dict)\r\n",
        "  tiles_dict_temp = copy.deepcopy(tiles_dict)\r\n",
        "  for tile in tiles_dict_temp:\r\n",
        "    adj_count = count_adjacent(tile,tiles_dict_temp)\r\n",
        "    if tiles_dict_temp[tile]:\r\n",
        "      if adj_count == 0 or adj_count>2:\r\n",
        "        # flip black to white\r\n",
        "        tiles_dict[tile] = False\r\n",
        "    else:\r\n",
        "      if adj_count == 2:\r\n",
        "        # flip white to black\r\n",
        "        tiles_dict[tile] = True\r\n",
        "\r\n",
        "black_tile_counter = 0\r\n",
        "for tile in tiles_dict:\r\n",
        "  if tiles_dict[tile]:\r\n",
        "    black_tile_counter += 1\r\n",
        "\r\n",
        "print(black_tile_counter)"
      ],
      "execution_count": null,
      "outputs": [
        {
          "output_type": "stream",
          "text": [
            "4280\n"
          ],
          "name": "stdout"
        }
      ]
    },
    {
      "cell_type": "markdown",
      "metadata": {
        "id": "uq6oFbCjYFD1"
      },
      "source": [
        "Day 25"
      ]
    },
    {
      "cell_type": "code",
      "metadata": {
        "colab": {
          "base_uri": "https://localhost:8080/"
        },
        "id": "PImGcQ3NYGrm",
        "outputId": "de768f65-98b6-4f86-e079-a146c85ce6d3"
      },
      "source": [
        "### PART 1 ### \r\n",
        "input = open(\"InputDay25.txt\")\r\n",
        "data = [int(value) for value in input.read().splitlines()]\r\n",
        "pub_key_1 = data[0]\r\n",
        "pub_key_2 = data[1]\r\n",
        "\r\n",
        "\r\n",
        "def findLoopSize(subject_number, public_key):\r\n",
        "  val = 1\r\n",
        "  loop_num = 0\r\n",
        "  while val != public_key:\r\n",
        "    loop_num+=1\r\n",
        "    val *= subject_number\r\n",
        "    val = val % 20201227\r\n",
        "  \r\n",
        "  return loop_num\r\n",
        "\r\n",
        "def findEncryptionKey(public_key,loop_size):\r\n",
        "  val = 1\r\n",
        "  for i in range(loop_size):\r\n",
        "    val *= public_key\r\n",
        "    val = val % 20201227\r\n",
        "  return val\r\n",
        "\r\n",
        "loop_size_1 = findLoopSize(7,pub_key_1)\r\n",
        "encryption_key = findEncryptionKey(pub_key_2,loop_size_1)\r\n",
        "print(encryption_key)"
      ],
      "execution_count": null,
      "outputs": [
        {
          "output_type": "stream",
          "text": [
            "11576351\n"
          ],
          "name": "stdout"
        }
      ]
    }
  ]
}